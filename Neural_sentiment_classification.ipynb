{
  "nbformat": 4,
  "nbformat_minor": 0,
  "metadata": {
    "colab": {
      "provenance": []
    },
    "kernelspec": {
      "name": "python3",
      "display_name": "Python 3"
    },
    "language_info": {
      "name": "python"
    },
    "gpuClass": "standard",
    "accelerator": "GPU",
    "widgets": {
      "application/vnd.jupyter.widget-state+json": {
        "fffc9c9d795049b5831cf286aa3a035c": {
          "model_module": "@jupyter-widgets/controls",
          "model_name": "HBoxModel",
          "model_module_version": "1.5.0",
          "state": {
            "_dom_classes": [],
            "_model_module": "@jupyter-widgets/controls",
            "_model_module_version": "1.5.0",
            "_model_name": "HBoxModel",
            "_view_count": null,
            "_view_module": "@jupyter-widgets/controls",
            "_view_module_version": "1.5.0",
            "_view_name": "HBoxView",
            "box_style": "",
            "children": [
              "IPY_MODEL_4c3e641b312045ea9a3712564529eafe",
              "IPY_MODEL_2b5d3ce118f741edb8960c56203e2f1c",
              "IPY_MODEL_285c9639ceea4ea799cc6432d93d0749"
            ],
            "layout": "IPY_MODEL_796c24df31ad41c2b735279dae796263"
          }
        },
        "4c3e641b312045ea9a3712564529eafe": {
          "model_module": "@jupyter-widgets/controls",
          "model_name": "HTMLModel",
          "model_module_version": "1.5.0",
          "state": {
            "_dom_classes": [],
            "_model_module": "@jupyter-widgets/controls",
            "_model_module_version": "1.5.0",
            "_model_name": "HTMLModel",
            "_view_count": null,
            "_view_module": "@jupyter-widgets/controls",
            "_view_module_version": "1.5.0",
            "_view_name": "HTMLView",
            "description": "",
            "description_tooltip": null,
            "layout": "IPY_MODEL_f553b91968af4cd786ae82bf1dbe4a0c",
            "placeholder": "​",
            "style": "IPY_MODEL_b22ec623afa6444f885c7c17f66f685a",
            "value": "Downloading (…)okenizer_config.json: 100%"
          }
        },
        "2b5d3ce118f741edb8960c56203e2f1c": {
          "model_module": "@jupyter-widgets/controls",
          "model_name": "FloatProgressModel",
          "model_module_version": "1.5.0",
          "state": {
            "_dom_classes": [],
            "_model_module": "@jupyter-widgets/controls",
            "_model_module_version": "1.5.0",
            "_model_name": "FloatProgressModel",
            "_view_count": null,
            "_view_module": "@jupyter-widgets/controls",
            "_view_module_version": "1.5.0",
            "_view_name": "ProgressView",
            "bar_style": "success",
            "description": "",
            "description_tooltip": null,
            "layout": "IPY_MODEL_dd779055b0eb4ecaa9d1456cb112c2ab",
            "max": 28,
            "min": 0,
            "orientation": "horizontal",
            "style": "IPY_MODEL_82af93e9f99d47488889d567d13d7204",
            "value": 28
          }
        },
        "285c9639ceea4ea799cc6432d93d0749": {
          "model_module": "@jupyter-widgets/controls",
          "model_name": "HTMLModel",
          "model_module_version": "1.5.0",
          "state": {
            "_dom_classes": [],
            "_model_module": "@jupyter-widgets/controls",
            "_model_module_version": "1.5.0",
            "_model_name": "HTMLModel",
            "_view_count": null,
            "_view_module": "@jupyter-widgets/controls",
            "_view_module_version": "1.5.0",
            "_view_name": "HTMLView",
            "description": "",
            "description_tooltip": null,
            "layout": "IPY_MODEL_400fc682bcb6469fa279de583e563020",
            "placeholder": "​",
            "style": "IPY_MODEL_99528b977e684f939e608a7bc524790d",
            "value": " 28.0/28.0 [00:00&lt;00:00, 828B/s]"
          }
        },
        "796c24df31ad41c2b735279dae796263": {
          "model_module": "@jupyter-widgets/base",
          "model_name": "LayoutModel",
          "model_module_version": "1.2.0",
          "state": {
            "_model_module": "@jupyter-widgets/base",
            "_model_module_version": "1.2.0",
            "_model_name": "LayoutModel",
            "_view_count": null,
            "_view_module": "@jupyter-widgets/base",
            "_view_module_version": "1.2.0",
            "_view_name": "LayoutView",
            "align_content": null,
            "align_items": null,
            "align_self": null,
            "border": null,
            "bottom": null,
            "display": null,
            "flex": null,
            "flex_flow": null,
            "grid_area": null,
            "grid_auto_columns": null,
            "grid_auto_flow": null,
            "grid_auto_rows": null,
            "grid_column": null,
            "grid_gap": null,
            "grid_row": null,
            "grid_template_areas": null,
            "grid_template_columns": null,
            "grid_template_rows": null,
            "height": null,
            "justify_content": null,
            "justify_items": null,
            "left": null,
            "margin": null,
            "max_height": null,
            "max_width": null,
            "min_height": null,
            "min_width": null,
            "object_fit": null,
            "object_position": null,
            "order": null,
            "overflow": null,
            "overflow_x": null,
            "overflow_y": null,
            "padding": null,
            "right": null,
            "top": null,
            "visibility": null,
            "width": null
          }
        },
        "f553b91968af4cd786ae82bf1dbe4a0c": {
          "model_module": "@jupyter-widgets/base",
          "model_name": "LayoutModel",
          "model_module_version": "1.2.0",
          "state": {
            "_model_module": "@jupyter-widgets/base",
            "_model_module_version": "1.2.0",
            "_model_name": "LayoutModel",
            "_view_count": null,
            "_view_module": "@jupyter-widgets/base",
            "_view_module_version": "1.2.0",
            "_view_name": "LayoutView",
            "align_content": null,
            "align_items": null,
            "align_self": null,
            "border": null,
            "bottom": null,
            "display": null,
            "flex": null,
            "flex_flow": null,
            "grid_area": null,
            "grid_auto_columns": null,
            "grid_auto_flow": null,
            "grid_auto_rows": null,
            "grid_column": null,
            "grid_gap": null,
            "grid_row": null,
            "grid_template_areas": null,
            "grid_template_columns": null,
            "grid_template_rows": null,
            "height": null,
            "justify_content": null,
            "justify_items": null,
            "left": null,
            "margin": null,
            "max_height": null,
            "max_width": null,
            "min_height": null,
            "min_width": null,
            "object_fit": null,
            "object_position": null,
            "order": null,
            "overflow": null,
            "overflow_x": null,
            "overflow_y": null,
            "padding": null,
            "right": null,
            "top": null,
            "visibility": null,
            "width": null
          }
        },
        "b22ec623afa6444f885c7c17f66f685a": {
          "model_module": "@jupyter-widgets/controls",
          "model_name": "DescriptionStyleModel",
          "model_module_version": "1.5.0",
          "state": {
            "_model_module": "@jupyter-widgets/controls",
            "_model_module_version": "1.5.0",
            "_model_name": "DescriptionStyleModel",
            "_view_count": null,
            "_view_module": "@jupyter-widgets/base",
            "_view_module_version": "1.2.0",
            "_view_name": "StyleView",
            "description_width": ""
          }
        },
        "dd779055b0eb4ecaa9d1456cb112c2ab": {
          "model_module": "@jupyter-widgets/base",
          "model_name": "LayoutModel",
          "model_module_version": "1.2.0",
          "state": {
            "_model_module": "@jupyter-widgets/base",
            "_model_module_version": "1.2.0",
            "_model_name": "LayoutModel",
            "_view_count": null,
            "_view_module": "@jupyter-widgets/base",
            "_view_module_version": "1.2.0",
            "_view_name": "LayoutView",
            "align_content": null,
            "align_items": null,
            "align_self": null,
            "border": null,
            "bottom": null,
            "display": null,
            "flex": null,
            "flex_flow": null,
            "grid_area": null,
            "grid_auto_columns": null,
            "grid_auto_flow": null,
            "grid_auto_rows": null,
            "grid_column": null,
            "grid_gap": null,
            "grid_row": null,
            "grid_template_areas": null,
            "grid_template_columns": null,
            "grid_template_rows": null,
            "height": null,
            "justify_content": null,
            "justify_items": null,
            "left": null,
            "margin": null,
            "max_height": null,
            "max_width": null,
            "min_height": null,
            "min_width": null,
            "object_fit": null,
            "object_position": null,
            "order": null,
            "overflow": null,
            "overflow_x": null,
            "overflow_y": null,
            "padding": null,
            "right": null,
            "top": null,
            "visibility": null,
            "width": null
          }
        },
        "82af93e9f99d47488889d567d13d7204": {
          "model_module": "@jupyter-widgets/controls",
          "model_name": "ProgressStyleModel",
          "model_module_version": "1.5.0",
          "state": {
            "_model_module": "@jupyter-widgets/controls",
            "_model_module_version": "1.5.0",
            "_model_name": "ProgressStyleModel",
            "_view_count": null,
            "_view_module": "@jupyter-widgets/base",
            "_view_module_version": "1.2.0",
            "_view_name": "StyleView",
            "bar_color": null,
            "description_width": ""
          }
        },
        "400fc682bcb6469fa279de583e563020": {
          "model_module": "@jupyter-widgets/base",
          "model_name": "LayoutModel",
          "model_module_version": "1.2.0",
          "state": {
            "_model_module": "@jupyter-widgets/base",
            "_model_module_version": "1.2.0",
            "_model_name": "LayoutModel",
            "_view_count": null,
            "_view_module": "@jupyter-widgets/base",
            "_view_module_version": "1.2.0",
            "_view_name": "LayoutView",
            "align_content": null,
            "align_items": null,
            "align_self": null,
            "border": null,
            "bottom": null,
            "display": null,
            "flex": null,
            "flex_flow": null,
            "grid_area": null,
            "grid_auto_columns": null,
            "grid_auto_flow": null,
            "grid_auto_rows": null,
            "grid_column": null,
            "grid_gap": null,
            "grid_row": null,
            "grid_template_areas": null,
            "grid_template_columns": null,
            "grid_template_rows": null,
            "height": null,
            "justify_content": null,
            "justify_items": null,
            "left": null,
            "margin": null,
            "max_height": null,
            "max_width": null,
            "min_height": null,
            "min_width": null,
            "object_fit": null,
            "object_position": null,
            "order": null,
            "overflow": null,
            "overflow_x": null,
            "overflow_y": null,
            "padding": null,
            "right": null,
            "top": null,
            "visibility": null,
            "width": null
          }
        },
        "99528b977e684f939e608a7bc524790d": {
          "model_module": "@jupyter-widgets/controls",
          "model_name": "DescriptionStyleModel",
          "model_module_version": "1.5.0",
          "state": {
            "_model_module": "@jupyter-widgets/controls",
            "_model_module_version": "1.5.0",
            "_model_name": "DescriptionStyleModel",
            "_view_count": null,
            "_view_module": "@jupyter-widgets/base",
            "_view_module_version": "1.2.0",
            "_view_name": "StyleView",
            "description_width": ""
          }
        },
        "c6e71cd0e016452380d59a3ed8bc0e8b": {
          "model_module": "@jupyter-widgets/controls",
          "model_name": "HBoxModel",
          "model_module_version": "1.5.0",
          "state": {
            "_dom_classes": [],
            "_model_module": "@jupyter-widgets/controls",
            "_model_module_version": "1.5.0",
            "_model_name": "HBoxModel",
            "_view_count": null,
            "_view_module": "@jupyter-widgets/controls",
            "_view_module_version": "1.5.0",
            "_view_name": "HBoxView",
            "box_style": "",
            "children": [
              "IPY_MODEL_3860f53b32974116a52f8257823e0757",
              "IPY_MODEL_abff722fb9ea4a3f957f541535d1f6a0",
              "IPY_MODEL_551c4ae0648d4393937481216417ff73"
            ],
            "layout": "IPY_MODEL_6497698209584463888bc2b1191c8e2a"
          }
        },
        "3860f53b32974116a52f8257823e0757": {
          "model_module": "@jupyter-widgets/controls",
          "model_name": "HTMLModel",
          "model_module_version": "1.5.0",
          "state": {
            "_dom_classes": [],
            "_model_module": "@jupyter-widgets/controls",
            "_model_module_version": "1.5.0",
            "_model_name": "HTMLModel",
            "_view_count": null,
            "_view_module": "@jupyter-widgets/controls",
            "_view_module_version": "1.5.0",
            "_view_name": "HTMLView",
            "description": "",
            "description_tooltip": null,
            "layout": "IPY_MODEL_7422a8291ef54b08a47c99df8bbe3718",
            "placeholder": "​",
            "style": "IPY_MODEL_59ed97832e084b499dc202346760989b",
            "value": "Downloading (…)lve/main/config.json: 100%"
          }
        },
        "abff722fb9ea4a3f957f541535d1f6a0": {
          "model_module": "@jupyter-widgets/controls",
          "model_name": "FloatProgressModel",
          "model_module_version": "1.5.0",
          "state": {
            "_dom_classes": [],
            "_model_module": "@jupyter-widgets/controls",
            "_model_module_version": "1.5.0",
            "_model_name": "FloatProgressModel",
            "_view_count": null,
            "_view_module": "@jupyter-widgets/controls",
            "_view_module_version": "1.5.0",
            "_view_name": "ProgressView",
            "bar_style": "success",
            "description": "",
            "description_tooltip": null,
            "layout": "IPY_MODEL_ce29f09fae6a405db6de4ee327b528e3",
            "max": 570,
            "min": 0,
            "orientation": "horizontal",
            "style": "IPY_MODEL_69845567cd4243b29729e5f3d9865839",
            "value": 570
          }
        },
        "551c4ae0648d4393937481216417ff73": {
          "model_module": "@jupyter-widgets/controls",
          "model_name": "HTMLModel",
          "model_module_version": "1.5.0",
          "state": {
            "_dom_classes": [],
            "_model_module": "@jupyter-widgets/controls",
            "_model_module_version": "1.5.0",
            "_model_name": "HTMLModel",
            "_view_count": null,
            "_view_module": "@jupyter-widgets/controls",
            "_view_module_version": "1.5.0",
            "_view_name": "HTMLView",
            "description": "",
            "description_tooltip": null,
            "layout": "IPY_MODEL_52373c59f3d441c89c5bbaa531add947",
            "placeholder": "​",
            "style": "IPY_MODEL_f3786507c29141068483fea0f9f60768",
            "value": " 570/570 [00:00&lt;00:00, 22.2kB/s]"
          }
        },
        "6497698209584463888bc2b1191c8e2a": {
          "model_module": "@jupyter-widgets/base",
          "model_name": "LayoutModel",
          "model_module_version": "1.2.0",
          "state": {
            "_model_module": "@jupyter-widgets/base",
            "_model_module_version": "1.2.0",
            "_model_name": "LayoutModel",
            "_view_count": null,
            "_view_module": "@jupyter-widgets/base",
            "_view_module_version": "1.2.0",
            "_view_name": "LayoutView",
            "align_content": null,
            "align_items": null,
            "align_self": null,
            "border": null,
            "bottom": null,
            "display": null,
            "flex": null,
            "flex_flow": null,
            "grid_area": null,
            "grid_auto_columns": null,
            "grid_auto_flow": null,
            "grid_auto_rows": null,
            "grid_column": null,
            "grid_gap": null,
            "grid_row": null,
            "grid_template_areas": null,
            "grid_template_columns": null,
            "grid_template_rows": null,
            "height": null,
            "justify_content": null,
            "justify_items": null,
            "left": null,
            "margin": null,
            "max_height": null,
            "max_width": null,
            "min_height": null,
            "min_width": null,
            "object_fit": null,
            "object_position": null,
            "order": null,
            "overflow": null,
            "overflow_x": null,
            "overflow_y": null,
            "padding": null,
            "right": null,
            "top": null,
            "visibility": null,
            "width": null
          }
        },
        "7422a8291ef54b08a47c99df8bbe3718": {
          "model_module": "@jupyter-widgets/base",
          "model_name": "LayoutModel",
          "model_module_version": "1.2.0",
          "state": {
            "_model_module": "@jupyter-widgets/base",
            "_model_module_version": "1.2.0",
            "_model_name": "LayoutModel",
            "_view_count": null,
            "_view_module": "@jupyter-widgets/base",
            "_view_module_version": "1.2.0",
            "_view_name": "LayoutView",
            "align_content": null,
            "align_items": null,
            "align_self": null,
            "border": null,
            "bottom": null,
            "display": null,
            "flex": null,
            "flex_flow": null,
            "grid_area": null,
            "grid_auto_columns": null,
            "grid_auto_flow": null,
            "grid_auto_rows": null,
            "grid_column": null,
            "grid_gap": null,
            "grid_row": null,
            "grid_template_areas": null,
            "grid_template_columns": null,
            "grid_template_rows": null,
            "height": null,
            "justify_content": null,
            "justify_items": null,
            "left": null,
            "margin": null,
            "max_height": null,
            "max_width": null,
            "min_height": null,
            "min_width": null,
            "object_fit": null,
            "object_position": null,
            "order": null,
            "overflow": null,
            "overflow_x": null,
            "overflow_y": null,
            "padding": null,
            "right": null,
            "top": null,
            "visibility": null,
            "width": null
          }
        },
        "59ed97832e084b499dc202346760989b": {
          "model_module": "@jupyter-widgets/controls",
          "model_name": "DescriptionStyleModel",
          "model_module_version": "1.5.0",
          "state": {
            "_model_module": "@jupyter-widgets/controls",
            "_model_module_version": "1.5.0",
            "_model_name": "DescriptionStyleModel",
            "_view_count": null,
            "_view_module": "@jupyter-widgets/base",
            "_view_module_version": "1.2.0",
            "_view_name": "StyleView",
            "description_width": ""
          }
        },
        "ce29f09fae6a405db6de4ee327b528e3": {
          "model_module": "@jupyter-widgets/base",
          "model_name": "LayoutModel",
          "model_module_version": "1.2.0",
          "state": {
            "_model_module": "@jupyter-widgets/base",
            "_model_module_version": "1.2.0",
            "_model_name": "LayoutModel",
            "_view_count": null,
            "_view_module": "@jupyter-widgets/base",
            "_view_module_version": "1.2.0",
            "_view_name": "LayoutView",
            "align_content": null,
            "align_items": null,
            "align_self": null,
            "border": null,
            "bottom": null,
            "display": null,
            "flex": null,
            "flex_flow": null,
            "grid_area": null,
            "grid_auto_columns": null,
            "grid_auto_flow": null,
            "grid_auto_rows": null,
            "grid_column": null,
            "grid_gap": null,
            "grid_row": null,
            "grid_template_areas": null,
            "grid_template_columns": null,
            "grid_template_rows": null,
            "height": null,
            "justify_content": null,
            "justify_items": null,
            "left": null,
            "margin": null,
            "max_height": null,
            "max_width": null,
            "min_height": null,
            "min_width": null,
            "object_fit": null,
            "object_position": null,
            "order": null,
            "overflow": null,
            "overflow_x": null,
            "overflow_y": null,
            "padding": null,
            "right": null,
            "top": null,
            "visibility": null,
            "width": null
          }
        },
        "69845567cd4243b29729e5f3d9865839": {
          "model_module": "@jupyter-widgets/controls",
          "model_name": "ProgressStyleModel",
          "model_module_version": "1.5.0",
          "state": {
            "_model_module": "@jupyter-widgets/controls",
            "_model_module_version": "1.5.0",
            "_model_name": "ProgressStyleModel",
            "_view_count": null,
            "_view_module": "@jupyter-widgets/base",
            "_view_module_version": "1.2.0",
            "_view_name": "StyleView",
            "bar_color": null,
            "description_width": ""
          }
        },
        "52373c59f3d441c89c5bbaa531add947": {
          "model_module": "@jupyter-widgets/base",
          "model_name": "LayoutModel",
          "model_module_version": "1.2.0",
          "state": {
            "_model_module": "@jupyter-widgets/base",
            "_model_module_version": "1.2.0",
            "_model_name": "LayoutModel",
            "_view_count": null,
            "_view_module": "@jupyter-widgets/base",
            "_view_module_version": "1.2.0",
            "_view_name": "LayoutView",
            "align_content": null,
            "align_items": null,
            "align_self": null,
            "border": null,
            "bottom": null,
            "display": null,
            "flex": null,
            "flex_flow": null,
            "grid_area": null,
            "grid_auto_columns": null,
            "grid_auto_flow": null,
            "grid_auto_rows": null,
            "grid_column": null,
            "grid_gap": null,
            "grid_row": null,
            "grid_template_areas": null,
            "grid_template_columns": null,
            "grid_template_rows": null,
            "height": null,
            "justify_content": null,
            "justify_items": null,
            "left": null,
            "margin": null,
            "max_height": null,
            "max_width": null,
            "min_height": null,
            "min_width": null,
            "object_fit": null,
            "object_position": null,
            "order": null,
            "overflow": null,
            "overflow_x": null,
            "overflow_y": null,
            "padding": null,
            "right": null,
            "top": null,
            "visibility": null,
            "width": null
          }
        },
        "f3786507c29141068483fea0f9f60768": {
          "model_module": "@jupyter-widgets/controls",
          "model_name": "DescriptionStyleModel",
          "model_module_version": "1.5.0",
          "state": {
            "_model_module": "@jupyter-widgets/controls",
            "_model_module_version": "1.5.0",
            "_model_name": "DescriptionStyleModel",
            "_view_count": null,
            "_view_module": "@jupyter-widgets/base",
            "_view_module_version": "1.2.0",
            "_view_name": "StyleView",
            "description_width": ""
          }
        },
        "6c37598c4bda4c0c92f399acaaa7b1d7": {
          "model_module": "@jupyter-widgets/controls",
          "model_name": "HBoxModel",
          "model_module_version": "1.5.0",
          "state": {
            "_dom_classes": [],
            "_model_module": "@jupyter-widgets/controls",
            "_model_module_version": "1.5.0",
            "_model_name": "HBoxModel",
            "_view_count": null,
            "_view_module": "@jupyter-widgets/controls",
            "_view_module_version": "1.5.0",
            "_view_name": "HBoxView",
            "box_style": "",
            "children": [
              "IPY_MODEL_81640e0da3be43c18a28ce4abc045dce",
              "IPY_MODEL_226124830a7340cebaa3c4c499ed94f4",
              "IPY_MODEL_c5979cc75536469a9a28b1dda2889837"
            ],
            "layout": "IPY_MODEL_615c984cb1014dab8333f28f77c0a8b8"
          }
        },
        "81640e0da3be43c18a28ce4abc045dce": {
          "model_module": "@jupyter-widgets/controls",
          "model_name": "HTMLModel",
          "model_module_version": "1.5.0",
          "state": {
            "_dom_classes": [],
            "_model_module": "@jupyter-widgets/controls",
            "_model_module_version": "1.5.0",
            "_model_name": "HTMLModel",
            "_view_count": null,
            "_view_module": "@jupyter-widgets/controls",
            "_view_module_version": "1.5.0",
            "_view_name": "HTMLView",
            "description": "",
            "description_tooltip": null,
            "layout": "IPY_MODEL_52db72307f154bdda91e3fc8e20d94c7",
            "placeholder": "​",
            "style": "IPY_MODEL_0c20e2542e4c48c1a196d524c5f33ab4",
            "value": "Downloading (…)solve/main/vocab.txt: 100%"
          }
        },
        "226124830a7340cebaa3c4c499ed94f4": {
          "model_module": "@jupyter-widgets/controls",
          "model_name": "FloatProgressModel",
          "model_module_version": "1.5.0",
          "state": {
            "_dom_classes": [],
            "_model_module": "@jupyter-widgets/controls",
            "_model_module_version": "1.5.0",
            "_model_name": "FloatProgressModel",
            "_view_count": null,
            "_view_module": "@jupyter-widgets/controls",
            "_view_module_version": "1.5.0",
            "_view_name": "ProgressView",
            "bar_style": "success",
            "description": "",
            "description_tooltip": null,
            "layout": "IPY_MODEL_42941771ae0a4e9ba71d65aa21670997",
            "max": 231508,
            "min": 0,
            "orientation": "horizontal",
            "style": "IPY_MODEL_e5b7b7977aa243d691020b0012ea0230",
            "value": 231508
          }
        },
        "c5979cc75536469a9a28b1dda2889837": {
          "model_module": "@jupyter-widgets/controls",
          "model_name": "HTMLModel",
          "model_module_version": "1.5.0",
          "state": {
            "_dom_classes": [],
            "_model_module": "@jupyter-widgets/controls",
            "_model_module_version": "1.5.0",
            "_model_name": "HTMLModel",
            "_view_count": null,
            "_view_module": "@jupyter-widgets/controls",
            "_view_module_version": "1.5.0",
            "_view_name": "HTMLView",
            "description": "",
            "description_tooltip": null,
            "layout": "IPY_MODEL_86e906df69174fe1bc07356df0b6f9b9",
            "placeholder": "​",
            "style": "IPY_MODEL_82f1ed42602c44b790ab15db80c2f10e",
            "value": " 232k/232k [00:00&lt;00:00, 2.93MB/s]"
          }
        },
        "615c984cb1014dab8333f28f77c0a8b8": {
          "model_module": "@jupyter-widgets/base",
          "model_name": "LayoutModel",
          "model_module_version": "1.2.0",
          "state": {
            "_model_module": "@jupyter-widgets/base",
            "_model_module_version": "1.2.0",
            "_model_name": "LayoutModel",
            "_view_count": null,
            "_view_module": "@jupyter-widgets/base",
            "_view_module_version": "1.2.0",
            "_view_name": "LayoutView",
            "align_content": null,
            "align_items": null,
            "align_self": null,
            "border": null,
            "bottom": null,
            "display": null,
            "flex": null,
            "flex_flow": null,
            "grid_area": null,
            "grid_auto_columns": null,
            "grid_auto_flow": null,
            "grid_auto_rows": null,
            "grid_column": null,
            "grid_gap": null,
            "grid_row": null,
            "grid_template_areas": null,
            "grid_template_columns": null,
            "grid_template_rows": null,
            "height": null,
            "justify_content": null,
            "justify_items": null,
            "left": null,
            "margin": null,
            "max_height": null,
            "max_width": null,
            "min_height": null,
            "min_width": null,
            "object_fit": null,
            "object_position": null,
            "order": null,
            "overflow": null,
            "overflow_x": null,
            "overflow_y": null,
            "padding": null,
            "right": null,
            "top": null,
            "visibility": null,
            "width": null
          }
        },
        "52db72307f154bdda91e3fc8e20d94c7": {
          "model_module": "@jupyter-widgets/base",
          "model_name": "LayoutModel",
          "model_module_version": "1.2.0",
          "state": {
            "_model_module": "@jupyter-widgets/base",
            "_model_module_version": "1.2.0",
            "_model_name": "LayoutModel",
            "_view_count": null,
            "_view_module": "@jupyter-widgets/base",
            "_view_module_version": "1.2.0",
            "_view_name": "LayoutView",
            "align_content": null,
            "align_items": null,
            "align_self": null,
            "border": null,
            "bottom": null,
            "display": null,
            "flex": null,
            "flex_flow": null,
            "grid_area": null,
            "grid_auto_columns": null,
            "grid_auto_flow": null,
            "grid_auto_rows": null,
            "grid_column": null,
            "grid_gap": null,
            "grid_row": null,
            "grid_template_areas": null,
            "grid_template_columns": null,
            "grid_template_rows": null,
            "height": null,
            "justify_content": null,
            "justify_items": null,
            "left": null,
            "margin": null,
            "max_height": null,
            "max_width": null,
            "min_height": null,
            "min_width": null,
            "object_fit": null,
            "object_position": null,
            "order": null,
            "overflow": null,
            "overflow_x": null,
            "overflow_y": null,
            "padding": null,
            "right": null,
            "top": null,
            "visibility": null,
            "width": null
          }
        },
        "0c20e2542e4c48c1a196d524c5f33ab4": {
          "model_module": "@jupyter-widgets/controls",
          "model_name": "DescriptionStyleModel",
          "model_module_version": "1.5.0",
          "state": {
            "_model_module": "@jupyter-widgets/controls",
            "_model_module_version": "1.5.0",
            "_model_name": "DescriptionStyleModel",
            "_view_count": null,
            "_view_module": "@jupyter-widgets/base",
            "_view_module_version": "1.2.0",
            "_view_name": "StyleView",
            "description_width": ""
          }
        },
        "42941771ae0a4e9ba71d65aa21670997": {
          "model_module": "@jupyter-widgets/base",
          "model_name": "LayoutModel",
          "model_module_version": "1.2.0",
          "state": {
            "_model_module": "@jupyter-widgets/base",
            "_model_module_version": "1.2.0",
            "_model_name": "LayoutModel",
            "_view_count": null,
            "_view_module": "@jupyter-widgets/base",
            "_view_module_version": "1.2.0",
            "_view_name": "LayoutView",
            "align_content": null,
            "align_items": null,
            "align_self": null,
            "border": null,
            "bottom": null,
            "display": null,
            "flex": null,
            "flex_flow": null,
            "grid_area": null,
            "grid_auto_columns": null,
            "grid_auto_flow": null,
            "grid_auto_rows": null,
            "grid_column": null,
            "grid_gap": null,
            "grid_row": null,
            "grid_template_areas": null,
            "grid_template_columns": null,
            "grid_template_rows": null,
            "height": null,
            "justify_content": null,
            "justify_items": null,
            "left": null,
            "margin": null,
            "max_height": null,
            "max_width": null,
            "min_height": null,
            "min_width": null,
            "object_fit": null,
            "object_position": null,
            "order": null,
            "overflow": null,
            "overflow_x": null,
            "overflow_y": null,
            "padding": null,
            "right": null,
            "top": null,
            "visibility": null,
            "width": null
          }
        },
        "e5b7b7977aa243d691020b0012ea0230": {
          "model_module": "@jupyter-widgets/controls",
          "model_name": "ProgressStyleModel",
          "model_module_version": "1.5.0",
          "state": {
            "_model_module": "@jupyter-widgets/controls",
            "_model_module_version": "1.5.0",
            "_model_name": "ProgressStyleModel",
            "_view_count": null,
            "_view_module": "@jupyter-widgets/base",
            "_view_module_version": "1.2.0",
            "_view_name": "StyleView",
            "bar_color": null,
            "description_width": ""
          }
        },
        "86e906df69174fe1bc07356df0b6f9b9": {
          "model_module": "@jupyter-widgets/base",
          "model_name": "LayoutModel",
          "model_module_version": "1.2.0",
          "state": {
            "_model_module": "@jupyter-widgets/base",
            "_model_module_version": "1.2.0",
            "_model_name": "LayoutModel",
            "_view_count": null,
            "_view_module": "@jupyter-widgets/base",
            "_view_module_version": "1.2.0",
            "_view_name": "LayoutView",
            "align_content": null,
            "align_items": null,
            "align_self": null,
            "border": null,
            "bottom": null,
            "display": null,
            "flex": null,
            "flex_flow": null,
            "grid_area": null,
            "grid_auto_columns": null,
            "grid_auto_flow": null,
            "grid_auto_rows": null,
            "grid_column": null,
            "grid_gap": null,
            "grid_row": null,
            "grid_template_areas": null,
            "grid_template_columns": null,
            "grid_template_rows": null,
            "height": null,
            "justify_content": null,
            "justify_items": null,
            "left": null,
            "margin": null,
            "max_height": null,
            "max_width": null,
            "min_height": null,
            "min_width": null,
            "object_fit": null,
            "object_position": null,
            "order": null,
            "overflow": null,
            "overflow_x": null,
            "overflow_y": null,
            "padding": null,
            "right": null,
            "top": null,
            "visibility": null,
            "width": null
          }
        },
        "82f1ed42602c44b790ab15db80c2f10e": {
          "model_module": "@jupyter-widgets/controls",
          "model_name": "DescriptionStyleModel",
          "model_module_version": "1.5.0",
          "state": {
            "_model_module": "@jupyter-widgets/controls",
            "_model_module_version": "1.5.0",
            "_model_name": "DescriptionStyleModel",
            "_view_count": null,
            "_view_module": "@jupyter-widgets/base",
            "_view_module_version": "1.2.0",
            "_view_name": "StyleView",
            "description_width": ""
          }
        },
        "099f8a18f5274373a53fe101413a8bf4": {
          "model_module": "@jupyter-widgets/controls",
          "model_name": "HBoxModel",
          "model_module_version": "1.5.0",
          "state": {
            "_dom_classes": [],
            "_model_module": "@jupyter-widgets/controls",
            "_model_module_version": "1.5.0",
            "_model_name": "HBoxModel",
            "_view_count": null,
            "_view_module": "@jupyter-widgets/controls",
            "_view_module_version": "1.5.0",
            "_view_name": "HBoxView",
            "box_style": "",
            "children": [
              "IPY_MODEL_a79b5d43af4147a6af199d3c45c89de7",
              "IPY_MODEL_d1f5e1a6cd224b06adb8b764d7fee129",
              "IPY_MODEL_98794123dc544034ba57c6a1a07fb655"
            ],
            "layout": "IPY_MODEL_e341dc9cc9f24c87a4a57292ba69d95b"
          }
        },
        "a79b5d43af4147a6af199d3c45c89de7": {
          "model_module": "@jupyter-widgets/controls",
          "model_name": "HTMLModel",
          "model_module_version": "1.5.0",
          "state": {
            "_dom_classes": [],
            "_model_module": "@jupyter-widgets/controls",
            "_model_module_version": "1.5.0",
            "_model_name": "HTMLModel",
            "_view_count": null,
            "_view_module": "@jupyter-widgets/controls",
            "_view_module_version": "1.5.0",
            "_view_name": "HTMLView",
            "description": "",
            "description_tooltip": null,
            "layout": "IPY_MODEL_2ef679349324477a995e5f1697e84dc5",
            "placeholder": "​",
            "style": "IPY_MODEL_809bfbac7d074d00992796da5eea4e84",
            "value": "Downloading (…)/main/tokenizer.json: 100%"
          }
        },
        "d1f5e1a6cd224b06adb8b764d7fee129": {
          "model_module": "@jupyter-widgets/controls",
          "model_name": "FloatProgressModel",
          "model_module_version": "1.5.0",
          "state": {
            "_dom_classes": [],
            "_model_module": "@jupyter-widgets/controls",
            "_model_module_version": "1.5.0",
            "_model_name": "FloatProgressModel",
            "_view_count": null,
            "_view_module": "@jupyter-widgets/controls",
            "_view_module_version": "1.5.0",
            "_view_name": "ProgressView",
            "bar_style": "success",
            "description": "",
            "description_tooltip": null,
            "layout": "IPY_MODEL_d3e3a37de53f4c9b9ce021205cca1fdb",
            "max": 466062,
            "min": 0,
            "orientation": "horizontal",
            "style": "IPY_MODEL_74a8784c2c0844a7941ff1d4c995c24b",
            "value": 466062
          }
        },
        "98794123dc544034ba57c6a1a07fb655": {
          "model_module": "@jupyter-widgets/controls",
          "model_name": "HTMLModel",
          "model_module_version": "1.5.0",
          "state": {
            "_dom_classes": [],
            "_model_module": "@jupyter-widgets/controls",
            "_model_module_version": "1.5.0",
            "_model_name": "HTMLModel",
            "_view_count": null,
            "_view_module": "@jupyter-widgets/controls",
            "_view_module_version": "1.5.0",
            "_view_name": "HTMLView",
            "description": "",
            "description_tooltip": null,
            "layout": "IPY_MODEL_360bdead6c0044b7ac2d46a8bb1c1d41",
            "placeholder": "​",
            "style": "IPY_MODEL_187f813bcdf44c0cab2b655a4a4871e2",
            "value": " 466k/466k [00:00&lt;00:00, 4.34MB/s]"
          }
        },
        "e341dc9cc9f24c87a4a57292ba69d95b": {
          "model_module": "@jupyter-widgets/base",
          "model_name": "LayoutModel",
          "model_module_version": "1.2.0",
          "state": {
            "_model_module": "@jupyter-widgets/base",
            "_model_module_version": "1.2.0",
            "_model_name": "LayoutModel",
            "_view_count": null,
            "_view_module": "@jupyter-widgets/base",
            "_view_module_version": "1.2.0",
            "_view_name": "LayoutView",
            "align_content": null,
            "align_items": null,
            "align_self": null,
            "border": null,
            "bottom": null,
            "display": null,
            "flex": null,
            "flex_flow": null,
            "grid_area": null,
            "grid_auto_columns": null,
            "grid_auto_flow": null,
            "grid_auto_rows": null,
            "grid_column": null,
            "grid_gap": null,
            "grid_row": null,
            "grid_template_areas": null,
            "grid_template_columns": null,
            "grid_template_rows": null,
            "height": null,
            "justify_content": null,
            "justify_items": null,
            "left": null,
            "margin": null,
            "max_height": null,
            "max_width": null,
            "min_height": null,
            "min_width": null,
            "object_fit": null,
            "object_position": null,
            "order": null,
            "overflow": null,
            "overflow_x": null,
            "overflow_y": null,
            "padding": null,
            "right": null,
            "top": null,
            "visibility": null,
            "width": null
          }
        },
        "2ef679349324477a995e5f1697e84dc5": {
          "model_module": "@jupyter-widgets/base",
          "model_name": "LayoutModel",
          "model_module_version": "1.2.0",
          "state": {
            "_model_module": "@jupyter-widgets/base",
            "_model_module_version": "1.2.0",
            "_model_name": "LayoutModel",
            "_view_count": null,
            "_view_module": "@jupyter-widgets/base",
            "_view_module_version": "1.2.0",
            "_view_name": "LayoutView",
            "align_content": null,
            "align_items": null,
            "align_self": null,
            "border": null,
            "bottom": null,
            "display": null,
            "flex": null,
            "flex_flow": null,
            "grid_area": null,
            "grid_auto_columns": null,
            "grid_auto_flow": null,
            "grid_auto_rows": null,
            "grid_column": null,
            "grid_gap": null,
            "grid_row": null,
            "grid_template_areas": null,
            "grid_template_columns": null,
            "grid_template_rows": null,
            "height": null,
            "justify_content": null,
            "justify_items": null,
            "left": null,
            "margin": null,
            "max_height": null,
            "max_width": null,
            "min_height": null,
            "min_width": null,
            "object_fit": null,
            "object_position": null,
            "order": null,
            "overflow": null,
            "overflow_x": null,
            "overflow_y": null,
            "padding": null,
            "right": null,
            "top": null,
            "visibility": null,
            "width": null
          }
        },
        "809bfbac7d074d00992796da5eea4e84": {
          "model_module": "@jupyter-widgets/controls",
          "model_name": "DescriptionStyleModel",
          "model_module_version": "1.5.0",
          "state": {
            "_model_module": "@jupyter-widgets/controls",
            "_model_module_version": "1.5.0",
            "_model_name": "DescriptionStyleModel",
            "_view_count": null,
            "_view_module": "@jupyter-widgets/base",
            "_view_module_version": "1.2.0",
            "_view_name": "StyleView",
            "description_width": ""
          }
        },
        "d3e3a37de53f4c9b9ce021205cca1fdb": {
          "model_module": "@jupyter-widgets/base",
          "model_name": "LayoutModel",
          "model_module_version": "1.2.0",
          "state": {
            "_model_module": "@jupyter-widgets/base",
            "_model_module_version": "1.2.0",
            "_model_name": "LayoutModel",
            "_view_count": null,
            "_view_module": "@jupyter-widgets/base",
            "_view_module_version": "1.2.0",
            "_view_name": "LayoutView",
            "align_content": null,
            "align_items": null,
            "align_self": null,
            "border": null,
            "bottom": null,
            "display": null,
            "flex": null,
            "flex_flow": null,
            "grid_area": null,
            "grid_auto_columns": null,
            "grid_auto_flow": null,
            "grid_auto_rows": null,
            "grid_column": null,
            "grid_gap": null,
            "grid_row": null,
            "grid_template_areas": null,
            "grid_template_columns": null,
            "grid_template_rows": null,
            "height": null,
            "justify_content": null,
            "justify_items": null,
            "left": null,
            "margin": null,
            "max_height": null,
            "max_width": null,
            "min_height": null,
            "min_width": null,
            "object_fit": null,
            "object_position": null,
            "order": null,
            "overflow": null,
            "overflow_x": null,
            "overflow_y": null,
            "padding": null,
            "right": null,
            "top": null,
            "visibility": null,
            "width": null
          }
        },
        "74a8784c2c0844a7941ff1d4c995c24b": {
          "model_module": "@jupyter-widgets/controls",
          "model_name": "ProgressStyleModel",
          "model_module_version": "1.5.0",
          "state": {
            "_model_module": "@jupyter-widgets/controls",
            "_model_module_version": "1.5.0",
            "_model_name": "ProgressStyleModel",
            "_view_count": null,
            "_view_module": "@jupyter-widgets/base",
            "_view_module_version": "1.2.0",
            "_view_name": "StyleView",
            "bar_color": null,
            "description_width": ""
          }
        },
        "360bdead6c0044b7ac2d46a8bb1c1d41": {
          "model_module": "@jupyter-widgets/base",
          "model_name": "LayoutModel",
          "model_module_version": "1.2.0",
          "state": {
            "_model_module": "@jupyter-widgets/base",
            "_model_module_version": "1.2.0",
            "_model_name": "LayoutModel",
            "_view_count": null,
            "_view_module": "@jupyter-widgets/base",
            "_view_module_version": "1.2.0",
            "_view_name": "LayoutView",
            "align_content": null,
            "align_items": null,
            "align_self": null,
            "border": null,
            "bottom": null,
            "display": null,
            "flex": null,
            "flex_flow": null,
            "grid_area": null,
            "grid_auto_columns": null,
            "grid_auto_flow": null,
            "grid_auto_rows": null,
            "grid_column": null,
            "grid_gap": null,
            "grid_row": null,
            "grid_template_areas": null,
            "grid_template_columns": null,
            "grid_template_rows": null,
            "height": null,
            "justify_content": null,
            "justify_items": null,
            "left": null,
            "margin": null,
            "max_height": null,
            "max_width": null,
            "min_height": null,
            "min_width": null,
            "object_fit": null,
            "object_position": null,
            "order": null,
            "overflow": null,
            "overflow_x": null,
            "overflow_y": null,
            "padding": null,
            "right": null,
            "top": null,
            "visibility": null,
            "width": null
          }
        },
        "187f813bcdf44c0cab2b655a4a4871e2": {
          "model_module": "@jupyter-widgets/controls",
          "model_name": "DescriptionStyleModel",
          "model_module_version": "1.5.0",
          "state": {
            "_model_module": "@jupyter-widgets/controls",
            "_model_module_version": "1.5.0",
            "_model_name": "DescriptionStyleModel",
            "_view_count": null,
            "_view_module": "@jupyter-widgets/base",
            "_view_module_version": "1.2.0",
            "_view_name": "StyleView",
            "description_width": ""
          }
        },
        "644d859048354974979cf3d89858b2cc": {
          "model_module": "@jupyter-widgets/controls",
          "model_name": "HBoxModel",
          "model_module_version": "1.5.0",
          "state": {
            "_dom_classes": [],
            "_model_module": "@jupyter-widgets/controls",
            "_model_module_version": "1.5.0",
            "_model_name": "HBoxModel",
            "_view_count": null,
            "_view_module": "@jupyter-widgets/controls",
            "_view_module_version": "1.5.0",
            "_view_name": "HBoxView",
            "box_style": "",
            "children": [
              "IPY_MODEL_5bb307f8695b4acfbdea2d06d2cca792",
              "IPY_MODEL_850d8e60dd384c46b8383b8961867161",
              "IPY_MODEL_6512dd147612408ca10003c88abd7dfd"
            ],
            "layout": "IPY_MODEL_3c933d6cc0cc498abdfd84be1fed479b"
          }
        },
        "5bb307f8695b4acfbdea2d06d2cca792": {
          "model_module": "@jupyter-widgets/controls",
          "model_name": "HTMLModel",
          "model_module_version": "1.5.0",
          "state": {
            "_dom_classes": [],
            "_model_module": "@jupyter-widgets/controls",
            "_model_module_version": "1.5.0",
            "_model_name": "HTMLModel",
            "_view_count": null,
            "_view_module": "@jupyter-widgets/controls",
            "_view_module_version": "1.5.0",
            "_view_name": "HTMLView",
            "description": "",
            "description_tooltip": null,
            "layout": "IPY_MODEL_d125a2247165450d878dbce9de8e8aaf",
            "placeholder": "​",
            "style": "IPY_MODEL_b4ba91381afd4e5dbf31ca4d871ff1b8",
            "value": "Downloading (…)&quot;pytorch_model.bin&quot;;: 100%"
          }
        },
        "850d8e60dd384c46b8383b8961867161": {
          "model_module": "@jupyter-widgets/controls",
          "model_name": "FloatProgressModel",
          "model_module_version": "1.5.0",
          "state": {
            "_dom_classes": [],
            "_model_module": "@jupyter-widgets/controls",
            "_model_module_version": "1.5.0",
            "_model_name": "FloatProgressModel",
            "_view_count": null,
            "_view_module": "@jupyter-widgets/controls",
            "_view_module_version": "1.5.0",
            "_view_name": "ProgressView",
            "bar_style": "success",
            "description": "",
            "description_tooltip": null,
            "layout": "IPY_MODEL_5f2cf1894ffd467c88e5f86532e3b4bf",
            "max": 440473133,
            "min": 0,
            "orientation": "horizontal",
            "style": "IPY_MODEL_b3af805a16534585af2cb399885d4ea5",
            "value": 440473133
          }
        },
        "6512dd147612408ca10003c88abd7dfd": {
          "model_module": "@jupyter-widgets/controls",
          "model_name": "HTMLModel",
          "model_module_version": "1.5.0",
          "state": {
            "_dom_classes": [],
            "_model_module": "@jupyter-widgets/controls",
            "_model_module_version": "1.5.0",
            "_model_name": "HTMLModel",
            "_view_count": null,
            "_view_module": "@jupyter-widgets/controls",
            "_view_module_version": "1.5.0",
            "_view_name": "HTMLView",
            "description": "",
            "description_tooltip": null,
            "layout": "IPY_MODEL_7f5fce9812264667bb782798c56c3f27",
            "placeholder": "​",
            "style": "IPY_MODEL_9e335acc5ea44f5a9f117419fa6a32cd",
            "value": " 440M/440M [00:06&lt;00:00, 38.8MB/s]"
          }
        },
        "3c933d6cc0cc498abdfd84be1fed479b": {
          "model_module": "@jupyter-widgets/base",
          "model_name": "LayoutModel",
          "model_module_version": "1.2.0",
          "state": {
            "_model_module": "@jupyter-widgets/base",
            "_model_module_version": "1.2.0",
            "_model_name": "LayoutModel",
            "_view_count": null,
            "_view_module": "@jupyter-widgets/base",
            "_view_module_version": "1.2.0",
            "_view_name": "LayoutView",
            "align_content": null,
            "align_items": null,
            "align_self": null,
            "border": null,
            "bottom": null,
            "display": null,
            "flex": null,
            "flex_flow": null,
            "grid_area": null,
            "grid_auto_columns": null,
            "grid_auto_flow": null,
            "grid_auto_rows": null,
            "grid_column": null,
            "grid_gap": null,
            "grid_row": null,
            "grid_template_areas": null,
            "grid_template_columns": null,
            "grid_template_rows": null,
            "height": null,
            "justify_content": null,
            "justify_items": null,
            "left": null,
            "margin": null,
            "max_height": null,
            "max_width": null,
            "min_height": null,
            "min_width": null,
            "object_fit": null,
            "object_position": null,
            "order": null,
            "overflow": null,
            "overflow_x": null,
            "overflow_y": null,
            "padding": null,
            "right": null,
            "top": null,
            "visibility": null,
            "width": null
          }
        },
        "d125a2247165450d878dbce9de8e8aaf": {
          "model_module": "@jupyter-widgets/base",
          "model_name": "LayoutModel",
          "model_module_version": "1.2.0",
          "state": {
            "_model_module": "@jupyter-widgets/base",
            "_model_module_version": "1.2.0",
            "_model_name": "LayoutModel",
            "_view_count": null,
            "_view_module": "@jupyter-widgets/base",
            "_view_module_version": "1.2.0",
            "_view_name": "LayoutView",
            "align_content": null,
            "align_items": null,
            "align_self": null,
            "border": null,
            "bottom": null,
            "display": null,
            "flex": null,
            "flex_flow": null,
            "grid_area": null,
            "grid_auto_columns": null,
            "grid_auto_flow": null,
            "grid_auto_rows": null,
            "grid_column": null,
            "grid_gap": null,
            "grid_row": null,
            "grid_template_areas": null,
            "grid_template_columns": null,
            "grid_template_rows": null,
            "height": null,
            "justify_content": null,
            "justify_items": null,
            "left": null,
            "margin": null,
            "max_height": null,
            "max_width": null,
            "min_height": null,
            "min_width": null,
            "object_fit": null,
            "object_position": null,
            "order": null,
            "overflow": null,
            "overflow_x": null,
            "overflow_y": null,
            "padding": null,
            "right": null,
            "top": null,
            "visibility": null,
            "width": null
          }
        },
        "b4ba91381afd4e5dbf31ca4d871ff1b8": {
          "model_module": "@jupyter-widgets/controls",
          "model_name": "DescriptionStyleModel",
          "model_module_version": "1.5.0",
          "state": {
            "_model_module": "@jupyter-widgets/controls",
            "_model_module_version": "1.5.0",
            "_model_name": "DescriptionStyleModel",
            "_view_count": null,
            "_view_module": "@jupyter-widgets/base",
            "_view_module_version": "1.2.0",
            "_view_name": "StyleView",
            "description_width": ""
          }
        },
        "5f2cf1894ffd467c88e5f86532e3b4bf": {
          "model_module": "@jupyter-widgets/base",
          "model_name": "LayoutModel",
          "model_module_version": "1.2.0",
          "state": {
            "_model_module": "@jupyter-widgets/base",
            "_model_module_version": "1.2.0",
            "_model_name": "LayoutModel",
            "_view_count": null,
            "_view_module": "@jupyter-widgets/base",
            "_view_module_version": "1.2.0",
            "_view_name": "LayoutView",
            "align_content": null,
            "align_items": null,
            "align_self": null,
            "border": null,
            "bottom": null,
            "display": null,
            "flex": null,
            "flex_flow": null,
            "grid_area": null,
            "grid_auto_columns": null,
            "grid_auto_flow": null,
            "grid_auto_rows": null,
            "grid_column": null,
            "grid_gap": null,
            "grid_row": null,
            "grid_template_areas": null,
            "grid_template_columns": null,
            "grid_template_rows": null,
            "height": null,
            "justify_content": null,
            "justify_items": null,
            "left": null,
            "margin": null,
            "max_height": null,
            "max_width": null,
            "min_height": null,
            "min_width": null,
            "object_fit": null,
            "object_position": null,
            "order": null,
            "overflow": null,
            "overflow_x": null,
            "overflow_y": null,
            "padding": null,
            "right": null,
            "top": null,
            "visibility": null,
            "width": null
          }
        },
        "b3af805a16534585af2cb399885d4ea5": {
          "model_module": "@jupyter-widgets/controls",
          "model_name": "ProgressStyleModel",
          "model_module_version": "1.5.0",
          "state": {
            "_model_module": "@jupyter-widgets/controls",
            "_model_module_version": "1.5.0",
            "_model_name": "ProgressStyleModel",
            "_view_count": null,
            "_view_module": "@jupyter-widgets/base",
            "_view_module_version": "1.2.0",
            "_view_name": "StyleView",
            "bar_color": null,
            "description_width": ""
          }
        },
        "7f5fce9812264667bb782798c56c3f27": {
          "model_module": "@jupyter-widgets/base",
          "model_name": "LayoutModel",
          "model_module_version": "1.2.0",
          "state": {
            "_model_module": "@jupyter-widgets/base",
            "_model_module_version": "1.2.0",
            "_model_name": "LayoutModel",
            "_view_count": null,
            "_view_module": "@jupyter-widgets/base",
            "_view_module_version": "1.2.0",
            "_view_name": "LayoutView",
            "align_content": null,
            "align_items": null,
            "align_self": null,
            "border": null,
            "bottom": null,
            "display": null,
            "flex": null,
            "flex_flow": null,
            "grid_area": null,
            "grid_auto_columns": null,
            "grid_auto_flow": null,
            "grid_auto_rows": null,
            "grid_column": null,
            "grid_gap": null,
            "grid_row": null,
            "grid_template_areas": null,
            "grid_template_columns": null,
            "grid_template_rows": null,
            "height": null,
            "justify_content": null,
            "justify_items": null,
            "left": null,
            "margin": null,
            "max_height": null,
            "max_width": null,
            "min_height": null,
            "min_width": null,
            "object_fit": null,
            "object_position": null,
            "order": null,
            "overflow": null,
            "overflow_x": null,
            "overflow_y": null,
            "padding": null,
            "right": null,
            "top": null,
            "visibility": null,
            "width": null
          }
        },
        "9e335acc5ea44f5a9f117419fa6a32cd": {
          "model_module": "@jupyter-widgets/controls",
          "model_name": "DescriptionStyleModel",
          "model_module_version": "1.5.0",
          "state": {
            "_model_module": "@jupyter-widgets/controls",
            "_model_module_version": "1.5.0",
            "_model_name": "DescriptionStyleModel",
            "_view_count": null,
            "_view_module": "@jupyter-widgets/base",
            "_view_module_version": "1.2.0",
            "_view_name": "StyleView",
            "description_width": ""
          }
        }
      }
    }
  },
  "cells": [
    {
      "cell_type": "code",
      "execution_count": null,
      "metadata": {
        "id": "_DEe6eVkc8id"
      },
      "outputs": [],
      "source": [
        "# import zipfile"
      ]
    },
    {
      "cell_type": "code",
      "source": [
        "# filename = '/content/drive/MyDrive/dataset/Adversarial_NLI.zip'\n",
        "# extraction_path = '/content/drive/MyDrive/dataset/Adversarial_NLI'"
      ],
      "metadata": {
        "id": "9PpGZiVzd9Tu"
      },
      "execution_count": null,
      "outputs": []
    },
    {
      "cell_type": "code",
      "source": [
        "# with zipfile.ZipFile(filename,'r') as zip:\n",
        "#   zip.extractall(extraction_path)\n",
        "  "
      ],
      "metadata": {
        "id": "xS9DW6zYePK1"
      },
      "execution_count": null,
      "outputs": []
    },
    {
      "cell_type": "code",
      "source": [
        "!pip install transformers"
      ],
      "metadata": {
        "colab": {
          "base_uri": "https://localhost:8080/"
        },
        "id": "JV87d8RmtQ0K",
        "outputId": "e18e1b8c-2e93-44ae-d67d-c9aba2e20205"
      },
      "execution_count": 1,
      "outputs": [
        {
          "output_type": "stream",
          "name": "stdout",
          "text": [
            "Looking in indexes: https://pypi.org/simple, https://us-python.pkg.dev/colab-wheels/public/simple/\n",
            "Collecting transformers\n",
            "  Downloading transformers-4.26.1-py3-none-any.whl (6.3 MB)\n",
            "\u001b[2K     \u001b[90m━━━━━━━━━━━━━━━━━━━━━━━━━━━━━━━━━━━━━━━━\u001b[0m \u001b[32m6.3/6.3 MB\u001b[0m \u001b[31m37.7 MB/s\u001b[0m eta \u001b[36m0:00:00\u001b[0m\n",
            "\u001b[?25hRequirement already satisfied: regex!=2019.12.17 in /usr/local/lib/python3.8/dist-packages (from transformers) (2022.6.2)\n",
            "Requirement already satisfied: filelock in /usr/local/lib/python3.8/dist-packages (from transformers) (3.9.0)\n",
            "Requirement already satisfied: pyyaml>=5.1 in /usr/local/lib/python3.8/dist-packages (from transformers) (6.0)\n",
            "Collecting tokenizers!=0.11.3,<0.14,>=0.11.1\n",
            "  Downloading tokenizers-0.13.2-cp38-cp38-manylinux_2_17_x86_64.manylinux2014_x86_64.whl (7.6 MB)\n",
            "\u001b[2K     \u001b[90m━━━━━━━━━━━━━━━━━━━━━━━━━━━━━━━━━━━━━━━━\u001b[0m \u001b[32m7.6/7.6 MB\u001b[0m \u001b[31m73.6 MB/s\u001b[0m eta \u001b[36m0:00:00\u001b[0m\n",
            "\u001b[?25hRequirement already satisfied: numpy>=1.17 in /usr/local/lib/python3.8/dist-packages (from transformers) (1.21.6)\n",
            "Requirement already satisfied: packaging>=20.0 in /usr/local/lib/python3.8/dist-packages (from transformers) (23.0)\n",
            "Requirement already satisfied: tqdm>=4.27 in /usr/local/lib/python3.8/dist-packages (from transformers) (4.64.1)\n",
            "Requirement already satisfied: requests in /usr/local/lib/python3.8/dist-packages (from transformers) (2.25.1)\n",
            "Collecting huggingface-hub<1.0,>=0.11.0\n",
            "  Downloading huggingface_hub-0.12.0-py3-none-any.whl (190 kB)\n",
            "\u001b[2K     \u001b[90m━━━━━━━━━━━━━━━━━━━━━━━━━━━━━━━━━━━━━━\u001b[0m \u001b[32m190.3/190.3 KB\u001b[0m \u001b[31m12.7 MB/s\u001b[0m eta \u001b[36m0:00:00\u001b[0m\n",
            "\u001b[?25hRequirement already satisfied: typing-extensions>=3.7.4.3 in /usr/local/lib/python3.8/dist-packages (from huggingface-hub<1.0,>=0.11.0->transformers) (4.4.0)\n",
            "Requirement already satisfied: urllib3<1.27,>=1.21.1 in /usr/local/lib/python3.8/dist-packages (from requests->transformers) (1.24.3)\n",
            "Requirement already satisfied: certifi>=2017.4.17 in /usr/local/lib/python3.8/dist-packages (from requests->transformers) (2022.12.7)\n",
            "Requirement already satisfied: idna<3,>=2.5 in /usr/local/lib/python3.8/dist-packages (from requests->transformers) (2.10)\n",
            "Requirement already satisfied: chardet<5,>=3.0.2 in /usr/local/lib/python3.8/dist-packages (from requests->transformers) (4.0.0)\n",
            "Installing collected packages: tokenizers, huggingface-hub, transformers\n",
            "Successfully installed huggingface-hub-0.12.0 tokenizers-0.13.2 transformers-4.26.1\n"
          ]
        }
      ]
    },
    {
      "cell_type": "code",
      "source": [
        "import pandas as pd\n",
        "import torch\n",
        "import numpy as np\n",
        "import matplotlib.pyplot as plt\n",
        "from sklearn.model_selection import train_test_split\n",
        "from tqdm import tqdm\n",
        "from torch import nn, optim\n",
        "from torch.utils import data\n",
        "import seaborn as sns\n",
        "import transformers\n",
        "from transformers import AutoTokenizer\n",
        "from transformers import AdamW\n",
        "from transformers import get_linear_schedule_with_warmup\n",
        "\n"
      ],
      "metadata": {
        "id": "wN2t3Y18pkHw"
      },
      "execution_count": 2,
      "outputs": []
    },
    {
      "cell_type": "code",
      "source": [
        "csv = pd.read_csv('/content/drive/MyDrive/dataset/IMDB_review_dataset/IMDB Dataset.csv')"
      ],
      "metadata": {
        "id": "Ahty1kR5poWH"
      },
      "execution_count": 3,
      "outputs": []
    },
    {
      "cell_type": "code",
      "source": [
        "cvs_df = pd.DataFrame(csv)"
      ],
      "metadata": {
        "id": "dRUVVVSMpubl"
      },
      "execution_count": 4,
      "outputs": []
    },
    {
      "cell_type": "code",
      "source": [
        "cvs_df.head()"
      ],
      "metadata": {
        "colab": {
          "base_uri": "https://localhost:8080/",
          "height": 206
        },
        "id": "V01bqsYVp8hQ",
        "outputId": "6c3e141f-c701-4423-fc71-6d4a087e415b"
      },
      "execution_count": 5,
      "outputs": [
        {
          "output_type": "execute_result",
          "data": {
            "text/plain": [
              "                                              review sentiment\n",
              "0  One of the other reviewers has mentioned that ...  positive\n",
              "1  A wonderful little production. <br /><br />The...  positive\n",
              "2  I thought this was a wonderful way to spend ti...  positive\n",
              "3  Basically there's a family where a little boy ...  negative\n",
              "4  Petter Mattei's \"Love in the Time of Money\" is...  positive"
            ],
            "text/html": [
              "\n",
              "  <div id=\"df-f97456ab-704f-44f5-b711-c4c9afb89f74\">\n",
              "    <div class=\"colab-df-container\">\n",
              "      <div>\n",
              "<style scoped>\n",
              "    .dataframe tbody tr th:only-of-type {\n",
              "        vertical-align: middle;\n",
              "    }\n",
              "\n",
              "    .dataframe tbody tr th {\n",
              "        vertical-align: top;\n",
              "    }\n",
              "\n",
              "    .dataframe thead th {\n",
              "        text-align: right;\n",
              "    }\n",
              "</style>\n",
              "<table border=\"1\" class=\"dataframe\">\n",
              "  <thead>\n",
              "    <tr style=\"text-align: right;\">\n",
              "      <th></th>\n",
              "      <th>review</th>\n",
              "      <th>sentiment</th>\n",
              "    </tr>\n",
              "  </thead>\n",
              "  <tbody>\n",
              "    <tr>\n",
              "      <th>0</th>\n",
              "      <td>One of the other reviewers has mentioned that ...</td>\n",
              "      <td>positive</td>\n",
              "    </tr>\n",
              "    <tr>\n",
              "      <th>1</th>\n",
              "      <td>A wonderful little production. &lt;br /&gt;&lt;br /&gt;The...</td>\n",
              "      <td>positive</td>\n",
              "    </tr>\n",
              "    <tr>\n",
              "      <th>2</th>\n",
              "      <td>I thought this was a wonderful way to spend ti...</td>\n",
              "      <td>positive</td>\n",
              "    </tr>\n",
              "    <tr>\n",
              "      <th>3</th>\n",
              "      <td>Basically there's a family where a little boy ...</td>\n",
              "      <td>negative</td>\n",
              "    </tr>\n",
              "    <tr>\n",
              "      <th>4</th>\n",
              "      <td>Petter Mattei's \"Love in the Time of Money\" is...</td>\n",
              "      <td>positive</td>\n",
              "    </tr>\n",
              "  </tbody>\n",
              "</table>\n",
              "</div>\n",
              "      <button class=\"colab-df-convert\" onclick=\"convertToInteractive('df-f97456ab-704f-44f5-b711-c4c9afb89f74')\"\n",
              "              title=\"Convert this dataframe to an interactive table.\"\n",
              "              style=\"display:none;\">\n",
              "        \n",
              "  <svg xmlns=\"http://www.w3.org/2000/svg\" height=\"24px\"viewBox=\"0 0 24 24\"\n",
              "       width=\"24px\">\n",
              "    <path d=\"M0 0h24v24H0V0z\" fill=\"none\"/>\n",
              "    <path d=\"M18.56 5.44l.94 2.06.94-2.06 2.06-.94-2.06-.94-.94-2.06-.94 2.06-2.06.94zm-11 1L8.5 8.5l.94-2.06 2.06-.94-2.06-.94L8.5 2.5l-.94 2.06-2.06.94zm10 10l.94 2.06.94-2.06 2.06-.94-2.06-.94-.94-2.06-.94 2.06-2.06.94z\"/><path d=\"M17.41 7.96l-1.37-1.37c-.4-.4-.92-.59-1.43-.59-.52 0-1.04.2-1.43.59L10.3 9.45l-7.72 7.72c-.78.78-.78 2.05 0 2.83L4 21.41c.39.39.9.59 1.41.59.51 0 1.02-.2 1.41-.59l7.78-7.78 2.81-2.81c.8-.78.8-2.07 0-2.86zM5.41 20L4 18.59l7.72-7.72 1.47 1.35L5.41 20z\"/>\n",
              "  </svg>\n",
              "      </button>\n",
              "      \n",
              "  <style>\n",
              "    .colab-df-container {\n",
              "      display:flex;\n",
              "      flex-wrap:wrap;\n",
              "      gap: 12px;\n",
              "    }\n",
              "\n",
              "    .colab-df-convert {\n",
              "      background-color: #E8F0FE;\n",
              "      border: none;\n",
              "      border-radius: 50%;\n",
              "      cursor: pointer;\n",
              "      display: none;\n",
              "      fill: #1967D2;\n",
              "      height: 32px;\n",
              "      padding: 0 0 0 0;\n",
              "      width: 32px;\n",
              "    }\n",
              "\n",
              "    .colab-df-convert:hover {\n",
              "      background-color: #E2EBFA;\n",
              "      box-shadow: 0px 1px 2px rgba(60, 64, 67, 0.3), 0px 1px 3px 1px rgba(60, 64, 67, 0.15);\n",
              "      fill: #174EA6;\n",
              "    }\n",
              "\n",
              "    [theme=dark] .colab-df-convert {\n",
              "      background-color: #3B4455;\n",
              "      fill: #D2E3FC;\n",
              "    }\n",
              "\n",
              "    [theme=dark] .colab-df-convert:hover {\n",
              "      background-color: #434B5C;\n",
              "      box-shadow: 0px 1px 3px 1px rgba(0, 0, 0, 0.15);\n",
              "      filter: drop-shadow(0px 1px 2px rgba(0, 0, 0, 0.3));\n",
              "      fill: #FFFFFF;\n",
              "    }\n",
              "  </style>\n",
              "\n",
              "      <script>\n",
              "        const buttonEl =\n",
              "          document.querySelector('#df-f97456ab-704f-44f5-b711-c4c9afb89f74 button.colab-df-convert');\n",
              "        buttonEl.style.display =\n",
              "          google.colab.kernel.accessAllowed ? 'block' : 'none';\n",
              "\n",
              "        async function convertToInteractive(key) {\n",
              "          const element = document.querySelector('#df-f97456ab-704f-44f5-b711-c4c9afb89f74');\n",
              "          const dataTable =\n",
              "            await google.colab.kernel.invokeFunction('convertToInteractive',\n",
              "                                                     [key], {});\n",
              "          if (!dataTable) return;\n",
              "\n",
              "          const docLinkHtml = 'Like what you see? Visit the ' +\n",
              "            '<a target=\"_blank\" href=https://colab.research.google.com/notebooks/data_table.ipynb>data table notebook</a>'\n",
              "            + ' to learn more about interactive tables.';\n",
              "          element.innerHTML = '';\n",
              "          dataTable['output_type'] = 'display_data';\n",
              "          await google.colab.output.renderOutput(dataTable, element);\n",
              "          const docLink = document.createElement('div');\n",
              "          docLink.innerHTML = docLinkHtml;\n",
              "          element.appendChild(docLink);\n",
              "        }\n",
              "      </script>\n",
              "    </div>\n",
              "  </div>\n",
              "  "
            ]
          },
          "metadata": {},
          "execution_count": 5
        }
      ]
    },
    {
      "cell_type": "code",
      "source": [
        "cvs_df.shape"
      ],
      "metadata": {
        "colab": {
          "base_uri": "https://localhost:8080/"
        },
        "id": "VdFPX61Pru10",
        "outputId": "85f92a9b-a439-44a2-8a39-7f7d9005a035"
      },
      "execution_count": 6,
      "outputs": [
        {
          "output_type": "execute_result",
          "data": {
            "text/plain": [
              "(50000, 2)"
            ]
          },
          "metadata": {},
          "execution_count": 6
        }
      ]
    },
    {
      "cell_type": "code",
      "source": [
        "sns.countplot(cvs_df.sentiment)\n",
        "plt.xlabel('sentiment')"
      ],
      "metadata": {
        "colab": {
          "base_uri": "https://localhost:8080/",
          "height": 354
        },
        "id": "9YszP49hqmY3",
        "outputId": "94f5616b-d4d9-4337-a228-689ddbc4a5bc"
      },
      "execution_count": 7,
      "outputs": [
        {
          "output_type": "stream",
          "name": "stderr",
          "text": [
            "/usr/local/lib/python3.8/dist-packages/seaborn/_decorators.py:36: FutureWarning: Pass the following variable as a keyword arg: x. From version 0.12, the only valid positional argument will be `data`, and passing other arguments without an explicit keyword will result in an error or misinterpretation.\n",
            "  warnings.warn(\n"
          ]
        },
        {
          "output_type": "execute_result",
          "data": {
            "text/plain": [
              "Text(0.5, 0, 'sentiment')"
            ]
          },
          "metadata": {},
          "execution_count": 7
        },
        {
          "output_type": "display_data",
          "data": {
            "text/plain": [
              "<Figure size 432x288 with 1 Axes>"
            ],
            "image/png": "[encoded data removed]"
          },
          "metadata": {
            "needs_background": "light"
          }
        }
      ]
    },
    {
      "cell_type": "code",
      "source": [
        "tokenizer = AutoTokenizer.from_pretrained('bert-base-uncased')"
      ],
      "metadata": {
        "id": "AZyEx8R2r0_v",
        "colab": {
          "base_uri": "https://localhost:8080/",
          "height": 145,
          "referenced_widgets": [
            "fffc9c9d795049b5831cf286aa3a035c",
            "4c3e641b312045ea9a3712564529eafe",
            "2b5d3ce118f741edb8960c56203e2f1c",
            "285c9639ceea4ea799cc6432d93d0749",
            "796c24df31ad41c2b735279dae796263",
            "f553b91968af4cd786ae82bf1dbe4a0c",
            "b22ec623afa6444f885c7c17f66f685a",
            "dd779055b0eb4ecaa9d1456cb112c2ab",
            "82af93e9f99d47488889d567d13d7204",
            "400fc682bcb6469fa279de583e563020",
            "99528b977e684f939e608a7bc524790d",
            "c6e71cd0e016452380d59a3ed8bc0e8b",
            "3860f53b32974116a52f8257823e0757",
            "abff722fb9ea4a3f957f541535d1f6a0",
            "551c4ae0648d4393937481216417ff73",
            "6497698209584463888bc2b1191c8e2a",
            "7422a8291ef54b08a47c99df8bbe3718",
            "59ed97832e084b499dc202346760989b",
            "ce29f09fae6a405db6de4ee327b528e3",
            "69845567cd4243b29729e5f3d9865839",
            "52373c59f3d441c89c5bbaa531add947",
            "f3786507c29141068483fea0f9f60768",
            "6c37598c4bda4c0c92f399acaaa7b1d7",
            "81640e0da3be43c18a28ce4abc045dce",
            "226124830a7340cebaa3c4c499ed94f4",
            "c5979cc75536469a9a28b1dda2889837",
            "615c984cb1014dab8333f28f77c0a8b8",
            "52db72307f154bdda91e3fc8e20d94c7",
            "0c20e2542e4c48c1a196d524c5f33ab4",
            "42941771ae0a4e9ba71d65aa21670997",
            "e5b7b7977aa243d691020b0012ea0230",
            "86e906df69174fe1bc07356df0b6f9b9",
            "82f1ed42602c44b790ab15db80c2f10e",
            "099f8a18f5274373a53fe101413a8bf4",
            "a79b5d43af4147a6af199d3c45c89de7",
            "d1f5e1a6cd224b06adb8b764d7fee129",
            "98794123dc544034ba57c6a1a07fb655",
            "e341dc9cc9f24c87a4a57292ba69d95b",
            "2ef679349324477a995e5f1697e84dc5",
            "809bfbac7d074d00992796da5eea4e84",
            "d3e3a37de53f4c9b9ce021205cca1fdb",
            "74a8784c2c0844a7941ff1d4c995c24b",
            "360bdead6c0044b7ac2d46a8bb1c1d41",
            "187f813bcdf44c0cab2b655a4a4871e2"
          ]
        },
        "outputId": "89350523-8c5e-4ad5-8300-f94015d5598e"
      },
      "execution_count": 8,
      "outputs": [
        {
          "output_type": "display_data",
          "data": {
            "text/plain": [
              "Downloading (…)okenizer_config.json:   0%|          | 0.00/28.0 [00:00<?, ?B/s]"
            ],
            "application/vnd.jupyter.widget-view+json": {
              "version_major": 2,
              "version_minor": 0,
              "model_id": "fffc9c9d795049b5831cf286aa3a035c"
            }
          },
          "metadata": {}
        },
        {
          "output_type": "display_data",
          "data": {
            "text/plain": [
              "Downloading (…)lve/main/config.json:   0%|          | 0.00/570 [00:00<?, ?B/s]"
            ],
            "application/vnd.jupyter.widget-view+json": {
              "version_major": 2,
              "version_minor": 0,
              "model_id": "c6e71cd0e016452380d59a3ed8bc0e8b"
            }
          },
          "metadata": {}
        },
        {
          "output_type": "display_data",
          "data": {
            "text/plain": [
              "Downloading (…)solve/main/vocab.txt:   0%|          | 0.00/232k [00:00<?, ?B/s]"
            ],
            "application/vnd.jupyter.widget-view+json": {
              "version_major": 2,
              "version_minor": 0,
              "model_id": "6c37598c4bda4c0c92f399acaaa7b1d7"
            }
          },
          "metadata": {}
        },
        {
          "output_type": "display_data",
          "data": {
            "text/plain": [
              "Downloading (…)/main/tokenizer.json:   0%|          | 0.00/466k [00:00<?, ?B/s]"
            ],
            "application/vnd.jupyter.widget-view+json": {
              "version_major": 2,
              "version_minor": 0,
              "model_id": "099f8a18f5274373a53fe101413a8bf4"
            }
          },
          "metadata": {}
        }
      ]
    },
    {
      "cell_type": "code",
      "source": [
        "tokenizer.special_tokens_map"
      ],
      "metadata": {
        "colab": {
          "base_uri": "https://localhost:8080/"
        },
        "id": "eeh0HPObtyi0",
        "outputId": "ce84ebc0-13bf-4f1c-adfa-8eb22ac6181c"
      },
      "execution_count": 9,
      "outputs": [
        {
          "output_type": "execute_result",
          "data": {
            "text/plain": [
              "{'unk_token': '[UNK]',\n",
              " 'sep_token': '[SEP]',\n",
              " 'pad_token': '[PAD]',\n",
              " 'cls_token': '[CLS]',\n",
              " 'mask_token': '[MASK]'}"
            ]
          },
          "metadata": {},
          "execution_count": 9
        }
      ]
    },
    {
      "cell_type": "code",
      "source": [
        "sample_text = cvs_df.iloc[2]"
      ],
      "metadata": {
        "id": "u76kuboMt2Ud"
      },
      "execution_count": 10,
      "outputs": []
    },
    {
      "cell_type": "code",
      "source": [
        "sample_text"
      ],
      "metadata": {
        "colab": {
          "base_uri": "https://localhost:8080/"
        },
        "id": "KxKn7RMbuMHh",
        "outputId": "2edeef3a-7cf5-43a3-c948-1598985d506e"
      },
      "execution_count": 11,
      "outputs": [
        {
          "output_type": "execute_result",
          "data": {
            "text/plain": [
              "review       I thought this was a wonderful way to spend ti...\n",
              "sentiment                                             positive\n",
              "Name: 2, dtype: object"
            ]
          },
          "metadata": {},
          "execution_count": 11
        }
      ]
    },
    {
      "cell_type": "code",
      "source": [
        "tokens = tokenizer.tokenize(sample_text)"
      ],
      "metadata": {
        "id": "qoeQHLeDuNfI"
      },
      "execution_count": 12,
      "outputs": []
    },
    {
      "cell_type": "code",
      "source": [
        "tokens"
      ],
      "metadata": {
        "colab": {
          "base_uri": "https://localhost:8080/"
        },
        "id": "tV5gOd9rudIV",
        "outputId": "34dd8ccd-c946-471f-8550-8ef062c12460"
      },
      "execution_count": 13,
      "outputs": [
        {
          "output_type": "execute_result",
          "data": {
            "text/plain": [
              "['i',\n",
              " 'thought',\n",
              " 'this',\n",
              " 'was',\n",
              " 'a',\n",
              " 'wonderful',\n",
              " 'way',\n",
              " 'to',\n",
              " 'spend',\n",
              " 'time',\n",
              " 'on',\n",
              " 'a',\n",
              " 'too',\n",
              " 'hot',\n",
              " 'summer',\n",
              " 'weekend',\n",
              " ',',\n",
              " 'sitting',\n",
              " 'in',\n",
              " 'the',\n",
              " 'air',\n",
              " 'conditioned',\n",
              " 'theater',\n",
              " 'and',\n",
              " 'watching',\n",
              " 'a',\n",
              " 'light',\n",
              " '-',\n",
              " 'hearted',\n",
              " 'comedy',\n",
              " '.',\n",
              " 'the',\n",
              " 'plot',\n",
              " 'is',\n",
              " 'sim',\n",
              " '##pl',\n",
              " '##istic',\n",
              " ',',\n",
              " 'but',\n",
              " 'the',\n",
              " 'dialogue',\n",
              " 'is',\n",
              " 'witty',\n",
              " 'and',\n",
              " 'the',\n",
              " 'characters',\n",
              " 'are',\n",
              " 'li',\n",
              " '##ka',\n",
              " '##ble',\n",
              " '(',\n",
              " 'even',\n",
              " 'the',\n",
              " 'well',\n",
              " 'bread',\n",
              " 'suspected',\n",
              " 'serial',\n",
              " 'killer',\n",
              " ')',\n",
              " '.',\n",
              " 'while',\n",
              " 'some',\n",
              " 'may',\n",
              " 'be',\n",
              " 'disappointed',\n",
              " 'when',\n",
              " 'they',\n",
              " 'realize',\n",
              " 'this',\n",
              " 'is',\n",
              " 'not',\n",
              " 'match',\n",
              " 'point',\n",
              " '2',\n",
              " ':',\n",
              " 'risk',\n",
              " 'addiction',\n",
              " ',',\n",
              " 'i',\n",
              " 'thought',\n",
              " 'it',\n",
              " 'was',\n",
              " 'proof',\n",
              " 'that',\n",
              " 'woody',\n",
              " 'allen',\n",
              " 'is',\n",
              " 'still',\n",
              " 'fully',\n",
              " 'in',\n",
              " 'control',\n",
              " 'of',\n",
              " 'the',\n",
              " 'style',\n",
              " 'many',\n",
              " 'of',\n",
              " 'us',\n",
              " 'have',\n",
              " 'grown',\n",
              " 'to',\n",
              " 'love',\n",
              " '.',\n",
              " '<',\n",
              " 'br',\n",
              " '/',\n",
              " '>',\n",
              " '<',\n",
              " 'br',\n",
              " '/',\n",
              " '>',\n",
              " 'this',\n",
              " 'was',\n",
              " 'the',\n",
              " 'most',\n",
              " 'i',\n",
              " \"'\",\n",
              " 'd',\n",
              " 'laughed',\n",
              " 'at',\n",
              " 'one',\n",
              " 'of',\n",
              " 'woody',\n",
              " \"'\",\n",
              " 's',\n",
              " 'comedies',\n",
              " 'in',\n",
              " 'years',\n",
              " '(',\n",
              " 'dare',\n",
              " 'i',\n",
              " 'say',\n",
              " 'a',\n",
              " 'decade',\n",
              " '?',\n",
              " ')',\n",
              " '.',\n",
              " 'while',\n",
              " 'i',\n",
              " \"'\",\n",
              " 've',\n",
              " 'never',\n",
              " 'been',\n",
              " 'impressed',\n",
              " 'with',\n",
              " 'scarlet',\n",
              " 'johan',\n",
              " '##son',\n",
              " ',',\n",
              " 'in',\n",
              " 'this',\n",
              " 'she',\n",
              " 'managed',\n",
              " 'to',\n",
              " 'tone',\n",
              " 'down',\n",
              " 'her',\n",
              " '\"',\n",
              " 'sexy',\n",
              " '\"',\n",
              " 'image',\n",
              " 'and',\n",
              " 'jumped',\n",
              " 'right',\n",
              " 'into',\n",
              " 'a',\n",
              " 'average',\n",
              " ',',\n",
              " 'but',\n",
              " 'spirited',\n",
              " 'young',\n",
              " 'woman',\n",
              " '.',\n",
              " '<',\n",
              " 'br',\n",
              " '/',\n",
              " '>',\n",
              " '<',\n",
              " 'br',\n",
              " '/',\n",
              " '>',\n",
              " 'this',\n",
              " 'may',\n",
              " 'not',\n",
              " 'be',\n",
              " 'the',\n",
              " 'crown',\n",
              " 'jewel',\n",
              " 'of',\n",
              " 'his',\n",
              " 'career',\n",
              " ',',\n",
              " 'but',\n",
              " 'it',\n",
              " 'was',\n",
              " 'wit',\n",
              " '##tier',\n",
              " 'than',\n",
              " '\"',\n",
              " 'devil',\n",
              " 'wears',\n",
              " 'pr',\n",
              " '##ada',\n",
              " '\"',\n",
              " 'and',\n",
              " 'more',\n",
              " 'interesting',\n",
              " 'than',\n",
              " '\"',\n",
              " 'superman',\n",
              " '\"',\n",
              " 'a',\n",
              " 'great',\n",
              " 'comedy',\n",
              " 'to',\n",
              " 'go',\n",
              " 'see',\n",
              " 'with',\n",
              " 'friends',\n",
              " '.',\n",
              " 'positive']"
            ]
          },
          "metadata": {},
          "execution_count": 13
        }
      ]
    },
    {
      "cell_type": "code",
      "source": [
        "token_ids = tokenizer.convert_tokens_to_ids(tokens)"
      ],
      "metadata": {
        "id": "De9iDZdiujw6"
      },
      "execution_count": 14,
      "outputs": []
    },
    {
      "cell_type": "code",
      "source": [
        "token_ids"
      ],
      "metadata": {
        "colab": {
          "base_uri": "https://localhost:8080/"
        },
        "id": "jPjRg3sWueTS",
        "outputId": "9b659a6f-5a1c-4e7c-aea5-2c2aabf8de58"
      },
      "execution_count": 15,
      "outputs": [
        {
          "output_type": "execute_result",
          "data": {
            "text/plain": [
              "[1045,\n",
              " 2245,\n",
              " 2023,\n",
              " 2001,\n",
              " 1037,\n",
              " 6919,\n",
              " 2126,\n",
              " 2000,\n",
              " 5247,\n",
              " 2051,\n",
              " 2006,\n",
              " 1037,\n",
              " 2205,\n",
              " 2980,\n",
              " 2621,\n",
              " 5353,\n",
              " 1010,\n",
              " 3564,\n",
              " 1999,\n",
              " 1996,\n",
              " 2250,\n",
              " 22442,\n",
              " 4258,\n",
              " 1998,\n",
              " 3666,\n",
              " 1037,\n",
              " 2422,\n",
              " 1011,\n",
              " 18627,\n",
              " 4038,\n",
              " 1012,\n",
              " 1996,\n",
              " 5436,\n",
              " 2003,\n",
              " 21934,\n",
              " 24759,\n",
              " 6553,\n",
              " 1010,\n",
              " 2021,\n",
              " 1996,\n",
              " 7982,\n",
              " 2003,\n",
              " 25591,\n",
              " 1998,\n",
              " 1996,\n",
              " 3494,\n",
              " 2024,\n",
              " 5622,\n",
              " 2912,\n",
              " 3468,\n",
              " 1006,\n",
              " 2130,\n",
              " 1996,\n",
              " 2092,\n",
              " 7852,\n",
              " 6878,\n",
              " 7642,\n",
              " 6359,\n",
              " 1007,\n",
              " 1012,\n",
              " 2096,\n",
              " 2070,\n",
              " 2089,\n",
              " 2022,\n",
              " 9364,\n",
              " 2043,\n",
              " 2027,\n",
              " 5382,\n",
              " 2023,\n",
              " 2003,\n",
              " 2025,\n",
              " 2674,\n",
              " 2391,\n",
              " 1016,\n",
              " 1024,\n",
              " 3891,\n",
              " 13449,\n",
              " 1010,\n",
              " 1045,\n",
              " 2245,\n",
              " 2009,\n",
              " 2001,\n",
              " 6947,\n",
              " 2008,\n",
              " 13703,\n",
              " 5297,\n",
              " 2003,\n",
              " 2145,\n",
              " 3929,\n",
              " 1999,\n",
              " 2491,\n",
              " 1997,\n",
              " 1996,\n",
              " 2806,\n",
              " 2116,\n",
              " 1997,\n",
              " 2149,\n",
              " 2031,\n",
              " 4961,\n",
              " 2000,\n",
              " 2293,\n",
              " 1012,\n",
              " 1026,\n",
              " 7987,\n",
              " 1013,\n",
              " 1028,\n",
              " 1026,\n",
              " 7987,\n",
              " 1013,\n",
              " 1028,\n",
              " 2023,\n",
              " 2001,\n",
              " 1996,\n",
              " 2087,\n",
              " 1045,\n",
              " 1005,\n",
              " 1040,\n",
              " 4191,\n",
              " 2012,\n",
              " 2028,\n",
              " 1997,\n",
              " 13703,\n",
              " 1005,\n",
              " 1055,\n",
              " 22092,\n",
              " 1999,\n",
              " 2086,\n",
              " 1006,\n",
              " 8108,\n",
              " 1045,\n",
              " 2360,\n",
              " 1037,\n",
              " 5476,\n",
              " 1029,\n",
              " 1007,\n",
              " 1012,\n",
              " 2096,\n",
              " 1045,\n",
              " 1005,\n",
              " 2310,\n",
              " 2196,\n",
              " 2042,\n",
              " 7622,\n",
              " 2007,\n",
              " 11862,\n",
              " 13093,\n",
              " 3385,\n",
              " 1010,\n",
              " 1999,\n",
              " 2023,\n",
              " 2016,\n",
              " 3266,\n",
              " 2000,\n",
              " 4309,\n",
              " 2091,\n",
              " 2014,\n",
              " 1000,\n",
              " 7916,\n",
              " 1000,\n",
              " 3746,\n",
              " 1998,\n",
              " 5598,\n",
              " 2157,\n",
              " 2046,\n",
              " 1037,\n",
              " 2779,\n",
              " 1010,\n",
              " 2021,\n",
              " 24462,\n",
              " 2402,\n",
              " 2450,\n",
              " 1012,\n",
              " 1026,\n",
              " 7987,\n",
              " 1013,\n",
              " 1028,\n",
              " 1026,\n",
              " 7987,\n",
              " 1013,\n",
              " 1028,\n",
              " 2023,\n",
              " 2089,\n",
              " 2025,\n",
              " 2022,\n",
              " 1996,\n",
              " 4410,\n",
              " 13713,\n",
              " 1997,\n",
              " 2010,\n",
              " 2476,\n",
              " 1010,\n",
              " 2021,\n",
              " 2009,\n",
              " 2001,\n",
              " 15966,\n",
              " 17579,\n",
              " 2084,\n",
              " 1000,\n",
              " 6548,\n",
              " 11651,\n",
              " 10975,\n",
              " 8447,\n",
              " 1000,\n",
              " 1998,\n",
              " 2062,\n",
              " 5875,\n",
              " 2084,\n",
              " 1000,\n",
              " 10646,\n",
              " 1000,\n",
              " 1037,\n",
              " 2307,\n",
              " 4038,\n",
              " 2000,\n",
              " 2175,\n",
              " 2156,\n",
              " 2007,\n",
              " 2814,\n",
              " 1012,\n",
              " 3893]"
            ]
          },
          "metadata": {},
          "execution_count": 15
        }
      ]
    },
    {
      "cell_type": "code",
      "source": [
        "len(token_ids)"
      ],
      "metadata": {
        "colab": {
          "base_uri": "https://localhost:8080/"
        },
        "id": "QbqzVz3fu8sP",
        "outputId": "5d27b539-d7a3-40ff-9a18-85ad03e26484"
      },
      "execution_count": 16,
      "outputs": [
        {
          "output_type": "execute_result",
          "data": {
            "text/plain": [
              "220"
            ]
          },
          "metadata": {},
          "execution_count": 16
        }
      ]
    },
    {
      "cell_type": "code",
      "source": [
        "len(tokens)"
      ],
      "metadata": {
        "colab": {
          "base_uri": "https://localhost:8080/"
        },
        "id": "mnWkcvpwu4BS",
        "outputId": "d7a66e5f-c955-49ad-fefe-9e9e805c1904"
      },
      "execution_count": 17,
      "outputs": [
        {
          "output_type": "execute_result",
          "data": {
            "text/plain": [
              "220"
            ]
          },
          "metadata": {},
          "execution_count": 17
        }
      ]
    },
    {
      "cell_type": "code",
      "source": [
        "tokenizer.sep_token, tokenizer.sep_token_id"
      ],
      "metadata": {
        "colab": {
          "base_uri": "https://localhost:8080/"
        },
        "id": "4ky3qknGvA0T",
        "outputId": "625dcdf8-84a3-46f0-b8e6-269c8357e4a7"
      },
      "execution_count": 18,
      "outputs": [
        {
          "output_type": "execute_result",
          "data": {
            "text/plain": [
              "('[SEP]', 102)"
            ]
          },
          "metadata": {},
          "execution_count": 18
        }
      ]
    },
    {
      "cell_type": "code",
      "source": [
        "tokenizer.cls_token, tokenizer.cls_token_id"
      ],
      "metadata": {
        "colab": {
          "base_uri": "https://localhost:8080/"
        },
        "id": "X7eGUCRlvPSc",
        "outputId": "84d2ab96-18ce-4b06-dcda-fc76109f68ff"
      },
      "execution_count": 19,
      "outputs": [
        {
          "output_type": "execute_result",
          "data": {
            "text/plain": [
              "('[CLS]', 101)"
            ]
          },
          "metadata": {},
          "execution_count": 19
        }
      ]
    },
    {
      "cell_type": "markdown",
      "source": [
        "###tokenize vs encode_plus\n",
        "tokenize and encode_plus are two different methods in the BERT tokenizer, and they serve different purposes.\n",
        "\n",
        "The tokenize method is used to split a sentence or a piece of text into subwords or tokens. For example, in BERT, a tokenizer would split the word \"playful\" into the subwords [\"play\", \"##ful\"].\n",
        "\n",
        "The encode_plus method, on the other hand, is used to both tokenize a sentence and convert the tokens into their corresponding numerical representations, called \"token IDs\". The method returns a dictionary that includes the following information:\n",
        "\n",
        "**input_ids**: a list of token IDs that represent the input sequence.\n",
        "\n",
        "**attention_mask**: a list of binary values indicating which tokens in the input sequence should be attended to by the model.\n",
        "\n",
        "**token_type_ids**: a list of token type IDs that are used to distinguish between different sequences in the input, such as the query and the context in question answering tasks.\n",
        "\n",
        "In summary, the tokenize method is used to perform text tokenization, while the encode_plus method is used to perform both tokenization and numerical encoding of the input text for use with the BERT model."
      ],
      "metadata": {
        "id": "0t6tmjgRwsE8"
      }
    },
    {
      "cell_type": "code",
      "source": [
        "encoding = tokenizer.encode_plus(sample_text, max_length=250,\n",
        "            add_special_tokens = True,\n",
        "            pad_to_max_length = True,\n",
        "            return_attention_mask = True,\n",
        "            return_token_type_ids =False,\n",
        "            return_tensors ='pt'\n",
        "            )"
      ],
      "metadata": {
        "id": "9Wts1X-rw6xn",
        "colab": {
          "base_uri": "https://localhost:8080/"
        },
        "outputId": "3dd5ceb5-7b79-43ae-f818-9dbd8632f9bf"
      },
      "execution_count": 20,
      "outputs": [
        {
          "output_type": "stream",
          "name": "stderr",
          "text": [
            "Truncation was not explicitly activated but `max_length` is provided a specific value, please use `truncation=True` to explicitly truncate examples to max length. Defaulting to 'longest_first' truncation strategy. If you encode pairs of sequences (GLUE-style) with the tokenizer you can select this strategy more precisely by providing a specific strategy to `truncation`.\n",
            "/usr/local/lib/python3.8/dist-packages/transformers/tokenization_utils_base.py:2339: FutureWarning: The `pad_to_max_length` argument is deprecated and will be removed in a future version, use `padding=True` or `padding='longest'` to pad to the longest sequence in the batch, or use `padding='max_length'` to pad to a max length. In this case, you can give a specific length with `max_length` (e.g. `max_length=45`) or leave max_length to None to pad to the maximal input size of the model (e.g. 512 for Bert).\n",
            "  warnings.warn(\n"
          ]
        }
      ]
    },
    {
      "cell_type": "code",
      "source": [
        "encoding.keys()"
      ],
      "metadata": {
        "colab": {
          "base_uri": "https://localhost:8080/"
        },
        "id": "-YGhwHkMwytw",
        "outputId": "e9a90c1a-be54-4df5-db1b-9a13cc99fa07"
      },
      "execution_count": 21,
      "outputs": [
        {
          "output_type": "execute_result",
          "data": {
            "text/plain": [
              "dict_keys(['input_ids', 'attention_mask'])"
            ]
          },
          "metadata": {},
          "execution_count": 21
        }
      ]
    },
    {
      "cell_type": "code",
      "source": [
        "encoding['input_ids']"
      ],
      "metadata": {
        "colab": {
          "base_uri": "https://localhost:8080/"
        },
        "id": "bZQBWJclwt_1",
        "outputId": "a6ab4689-919a-4578-c325-6699c26266cd"
      },
      "execution_count": 22,
      "outputs": [
        {
          "output_type": "execute_result",
          "data": {
            "text/plain": [
              "tensor([[  101,  1045,  2245,  2023,  2001,  1037,  6919,  2126,  2000,  5247,\n",
              "          2051,  2006,  1037,  2205,  2980,  2621,  5353,  1010,  3564,  1999,\n",
              "          1996,  2250, 22442,  4258,  1998,  3666,  1037,  2422,  1011, 18627,\n",
              "          4038,  1012,  1996,  5436,  2003, 21934, 24759,  6553,  1010,  2021,\n",
              "          1996,  7982,  2003, 25591,  1998,  1996,  3494,  2024,  5622,  2912,\n",
              "          3468,  1006,  2130,  1996,  2092,  7852,  6878,  7642,  6359,  1007,\n",
              "          1012,  2096,  2070,  2089,  2022,  9364,  2043,  2027,  5382,  2023,\n",
              "          2003,  2025,  2674,  2391,  1016,  1024,  3891, 13449,  1010,  1045,\n",
              "          2245,  2009,  2001,  6947,  2008, 13703,  5297,  2003,  2145,  3929,\n",
              "          1999,  2491,  1997,  1996,  2806,  2116,  1997,  2149,  2031,  4961,\n",
              "          2000,  2293,  1012,  1026,  7987,  1013,  1028,  1026,  7987,  1013,\n",
              "          1028,  2023,  2001,  1996,  2087,  1045,  1005,  1040,  4191,  2012,\n",
              "          2028,  1997, 13703,  1005,  1055, 22092,  1999,  2086,  1006,  8108,\n",
              "          1045,  2360,  1037,  5476,  1029,  1007,  1012,  2096,  1045,  1005,\n",
              "          2310,  2196,  2042,  7622,  2007, 11862, 13093,  3385,  1010,  1999,\n",
              "          2023,  2016,  3266,  2000,  4309,  2091,  2014,  1000,  7916,  1000,\n",
              "          3746,  1998,  5598,  2157,  2046,  1037,  2779,  1010,  2021, 24462,\n",
              "          2402,  2450,  1012,  1026,  7987,  1013,  1028,  1026,  7987,  1013,\n",
              "          1028,  2023,  2089,  2025,  2022,  1996,  4410, 13713,  1997,  2010,\n",
              "          2476,  1010,  2021,  2009,  2001, 15966, 17579,  2084,  1000,  6548,\n",
              "         11651, 10975,  8447,  1000,  1998,  2062,  5875,  2084,  1000, 10646,\n",
              "          1000,  1037,  2307,  4038,  2000,  2175,  2156,  2007,  2814,  1012,\n",
              "           102,  3893,   102,     0,     0,     0,     0,     0,     0,     0,\n",
              "             0,     0,     0,     0,     0,     0,     0,     0,     0,     0,\n",
              "             0,     0,     0,     0,     0,     0,     0,     0,     0,     0]])"
            ]
          },
          "metadata": {},
          "execution_count": 22
        }
      ]
    },
    {
      "cell_type": "code",
      "source": [
        "tokenizer.convert_ids_to_tokens(3893)"
      ],
      "metadata": {
        "colab": {
          "base_uri": "https://localhost:8080/",
          "height": 36
        },
        "id": "nLTSqBc_xvLt",
        "outputId": "3131e4f9-8abe-4941-8f26-e57aa36d6323"
      },
      "execution_count": 23,
      "outputs": [
        {
          "output_type": "execute_result",
          "data": {
            "text/plain": [
              "'positive'"
            ],
            "application/vnd.google.colaboratory.intrinsic+json": {
              "type": "string"
            }
          },
          "metadata": {},
          "execution_count": 23
        }
      ]
    },
    {
      "cell_type": "code",
      "source": [
        "tokenizer.convert_tokens_to_ids('positive')"
      ],
      "metadata": {
        "colab": {
          "base_uri": "https://localhost:8080/"
        },
        "id": "kjLJhVQFygVZ",
        "outputId": "db576c7e-3cea-4902-e668-3f9c651b6abe"
      },
      "execution_count": 24,
      "outputs": [
        {
          "output_type": "execute_result",
          "data": {
            "text/plain": [
              "3893"
            ]
          },
          "metadata": {},
          "execution_count": 24
        }
      ]
    },
    {
      "cell_type": "code",
      "source": [
        "encoding['attention_mask']"
      ],
      "metadata": {
        "colab": {
          "base_uri": "https://localhost:8080/"
        },
        "id": "A49A5IlPyovQ",
        "outputId": "66c22de6-83e9-40ad-d987-3f6b3c04e49d"
      },
      "execution_count": 25,
      "outputs": [
        {
          "output_type": "execute_result",
          "data": {
            "text/plain": [
              "tensor([[1, 1, 1, 1, 1, 1, 1, 1, 1, 1, 1, 1, 1, 1, 1, 1, 1, 1, 1, 1, 1, 1, 1, 1,\n",
              "         1, 1, 1, 1, 1, 1, 1, 1, 1, 1, 1, 1, 1, 1, 1, 1, 1, 1, 1, 1, 1, 1, 1, 1,\n",
              "         1, 1, 1, 1, 1, 1, 1, 1, 1, 1, 1, 1, 1, 1, 1, 1, 1, 1, 1, 1, 1, 1, 1, 1,\n",
              "         1, 1, 1, 1, 1, 1, 1, 1, 1, 1, 1, 1, 1, 1, 1, 1, 1, 1, 1, 1, 1, 1, 1, 1,\n",
              "         1, 1, 1, 1, 1, 1, 1, 1, 1, 1, 1, 1, 1, 1, 1, 1, 1, 1, 1, 1, 1, 1, 1, 1,\n",
              "         1, 1, 1, 1, 1, 1, 1, 1, 1, 1, 1, 1, 1, 1, 1, 1, 1, 1, 1, 1, 1, 1, 1, 1,\n",
              "         1, 1, 1, 1, 1, 1, 1, 1, 1, 1, 1, 1, 1, 1, 1, 1, 1, 1, 1, 1, 1, 1, 1, 1,\n",
              "         1, 1, 1, 1, 1, 1, 1, 1, 1, 1, 1, 1, 1, 1, 1, 1, 1, 1, 1, 1, 1, 1, 1, 1,\n",
              "         1, 1, 1, 1, 1, 1, 1, 1, 1, 1, 1, 1, 1, 1, 1, 1, 1, 1, 1, 1, 1, 1, 1, 1,\n",
              "         1, 1, 1, 1, 1, 1, 1, 0, 0, 0, 0, 0, 0, 0, 0, 0, 0, 0, 0, 0, 0, 0, 0, 0,\n",
              "         0, 0, 0, 0, 0, 0, 0, 0, 0, 0]])"
            ]
          },
          "metadata": {},
          "execution_count": 25
        }
      ]
    },
    {
      "cell_type": "code",
      "source": [
        "# token_len = []\n",
        "# for i in cvs_df.review:\n",
        "#   tokenize_rev = tokenizer.encode(i,max_length=512)\n",
        "#   token_len.append(len(tokenize_rev))"
      ],
      "metadata": {
        "id": "vqckS56ryw8H"
      },
      "execution_count": 26,
      "outputs": []
    },
    {
      "cell_type": "code",
      "source": [
        "# sns.distplot(token_len);"
      ],
      "metadata": {
        "id": "ayNxoLPYz5cc"
      },
      "execution_count": 27,
      "outputs": []
    },
    {
      "cell_type": "code",
      "source": [
        "type(cvs_df)"
      ],
      "metadata": {
        "colab": {
          "base_uri": "https://localhost:8080/"
        },
        "id": "eQW4RbQe3m1T",
        "outputId": "895b9e1d-896b-4ec0-e524-c9c330172871"
      },
      "execution_count": 28,
      "outputs": [
        {
          "output_type": "execute_result",
          "data": {
            "text/plain": [
              "pandas.core.frame.DataFrame"
            ]
          },
          "metadata": {},
          "execution_count": 28
        }
      ]
    },
    {
      "cell_type": "code",
      "source": [
        "ss = cvs_df.iloc[1,1]"
      ],
      "metadata": {
        "id": "gZGbUVan4c64"
      },
      "execution_count": 29,
      "outputs": []
    },
    {
      "cell_type": "code",
      "source": [
        "ss"
      ],
      "metadata": {
        "colab": {
          "base_uri": "https://localhost:8080/",
          "height": 36
        },
        "id": "5ACCUFI14hTK",
        "outputId": "f40e155b-fe7a-4fe3-fe20-459bbacc6503"
      },
      "execution_count": 30,
      "outputs": [
        {
          "output_type": "execute_result",
          "data": {
            "text/plain": [
              "'positive'"
            ],
            "application/vnd.google.colaboratory.intrinsic+json": {
              "type": "string"
            }
          },
          "metadata": {},
          "execution_count": 30
        }
      ]
    },
    {
      "cell_type": "code",
      "source": [
        "from sklearn.preprocessing import LabelEncoder\n",
        "label_encoder = LabelEncoder()\n"
      ],
      "metadata": {
        "id": "8lALgCTu6XRT"
      },
      "execution_count": 31,
      "outputs": []
    },
    {
      "cell_type": "code",
      "source": [
        "class IMDB_review(data.Dataset):\n",
        "  def __init__(self, review, target, tokenizer, max_len):\n",
        "    self.review = review\n",
        "    self.encoder = LabelEncoder()\n",
        "    self.target = self.encoder.fit_transform(target)\n",
        "    self.tokenizer = tokenizer\n",
        "    self.max_len  = max_len\n",
        "\n",
        "\n",
        "\n",
        "  def __len__(self):\n",
        "    return len(self.review)\n",
        "\n",
        "  def __getitem__(self, idx):\n",
        "    review = self.review[idx]\n",
        "    target = torch.tensor(self.target[idx], dtype=torch.long)\n",
        "    encoding = tokenizer.encode_plus(review, max_length=self.max_len,\n",
        "            add_special_tokens = True,\n",
        "            pad_to_max_length = self.max_len,\n",
        "            return_attention_mask = True,\n",
        "            return_token_type_ids =False,\n",
        "            return_tensors ='pt'\n",
        "            )\n",
        "    \n",
        "    return encoding['input_ids'].squeeze(),encoding['attention_mask'].squeeze(),target \n",
        "\n",
        "\n",
        "\n",
        "\n"
      ],
      "metadata": {
        "id": "1KEb2-qGz-BH"
      },
      "execution_count": 32,
      "outputs": []
    },
    {
      "cell_type": "code",
      "source": [
        "RANDOM_SEED = 12"
      ],
      "metadata": {
        "id": "TzwQOLTpY2wt"
      },
      "execution_count": 33,
      "outputs": []
    },
    {
      "cell_type": "code",
      "source": [
        "df_train,df_test = train_test_split(cvs_df,test_size = 0.2, random_state = RANDOM_SEED)\n",
        "df_val,df_test = train_test_split(df_test,test_size = 0.5, random_state = RANDOM_SEED)"
      ],
      "metadata": {
        "id": "uE54p7HR-Bbb"
      },
      "execution_count": 34,
      "outputs": []
    },
    {
      "cell_type": "code",
      "source": [
        "df_train.shape,df_test.shape,df_val.shape"
      ],
      "metadata": {
        "colab": {
          "base_uri": "https://localhost:8080/"
        },
        "id": "eVyhpjnx--WV",
        "outputId": "b00146f2-d3e2-4210-958d-de3f89917ceb"
      },
      "execution_count": 35,
      "outputs": [
        {
          "output_type": "execute_result",
          "data": {
            "text/plain": [
              "((40000, 2), (5000, 2), (5000, 2))"
            ]
          },
          "metadata": {},
          "execution_count": 35
        }
      ]
    },
    {
      "cell_type": "code",
      "source": [
        "max_len = 512\n",
        "batch_size = 16\n",
        "epochs = 20\n",
        "num_classes = df_train['sentiment'].unique()\n",
        "num_classes = len(num_classes)\n",
        "num_classes"
      ],
      "metadata": {
        "id": "nnFMMCj49Nhg",
        "colab": {
          "base_uri": "https://localhost:8080/"
        },
        "outputId": "9fa041d9-b1a2-4b3c-806a-fc193b956fc5"
      },
      "execution_count": 36,
      "outputs": [
        {
          "output_type": "execute_result",
          "data": {
            "text/plain": [
              "2"
            ]
          },
          "metadata": {},
          "execution_count": 36
        }
      ]
    },
    {
      "cell_type": "code",
      "source": [
        "def generate_dataloader(df, tokenizer, max_len,batch_size):\n",
        "  data = IMDB_review(review = df.review.to_numpy(),\n",
        "                     target = df.sentiment.to_numpy(),\n",
        "                     tokenizer = tokenizer,\n",
        "                     max_len=max_len)\n",
        "  \n",
        "  return torch.utils.data.DataLoader(data,\n",
        "                         batch_size=batch_size)\n",
        "\n"
      ],
      "metadata": {
        "id": "FOBMgNzW_D03"
      },
      "execution_count": 37,
      "outputs": []
    },
    {
      "cell_type": "code",
      "source": [
        "device = 'cuda' if torch.cuda.is_available else 'cpu'\n",
        "device"
      ],
      "metadata": {
        "colab": {
          "base_uri": "https://localhost:8080/",
          "height": 36
        },
        "id": "AHxf7tAeVhDj",
        "outputId": "15f5e957-921b-4e4a-b82e-60adfd5c683f"
      },
      "execution_count": 38,
      "outputs": [
        {
          "output_type": "execute_result",
          "data": {
            "text/plain": [
              "'cuda'"
            ],
            "application/vnd.google.colaboratory.intrinsic+json": {
              "type": "string"
            }
          },
          "metadata": {},
          "execution_count": 38
        }
      ]
    },
    {
      "cell_type": "code",
      "source": [
        "train_dataloader = generate_dataloader(df_train, tokenizer, max_len, batch_size)\n",
        "test_dataloader = generate_dataloader(df_test, tokenizer, max_len, batch_size)\n",
        "val_dataloader = generate_dataloader(df_val, tokenizer, max_len, batch_size)"
      ],
      "metadata": {
        "id": "QsJMAxWUASKA"
      },
      "execution_count": 39,
      "outputs": []
    },
    {
      "cell_type": "code",
      "source": [
        "train_dataloader.batch_size"
      ],
      "metadata": {
        "id": "-rp48SsweuI2",
        "colab": {
          "base_uri": "https://localhost:8080/"
        },
        "outputId": "3c13cef3-5133-4e98-ffa2-3eec4d04808e"
      },
      "execution_count": 40,
      "outputs": [
        {
          "output_type": "execute_result",
          "data": {
            "text/plain": [
              "16"
            ]
          },
          "metadata": {},
          "execution_count": 40
        }
      ]
    },
    {
      "cell_type": "markdown",
      "source": [
        "The output shape of input_ids and attention_mask is (8, 1, 512), which indicates that the batch size is 8, each input has 1 sequence, and each sequence has 512 tokens. The shape of target is (8,), which indicates that the batch size is 8 and each target is a scalar value. The shape of the input and target tensors is important to keep in mind when building and training the model, as the dimensions need to match the expected inputs and outputs for the model"
      ],
      "metadata": {
        "id": "O7kH_thcIoEN"
      }
    },
    {
      "cell_type": "code",
      "source": [
        "train_iterator = iter(train_dataloader)\n",
        "for i in range(len(train_dataloader)):\n",
        "    input_ids, attention_mask, target = next(train_iterator)\n",
        "    print(input_ids[1])\n",
        "    print(attention_mask[1])\n",
        "    print(target[1])\n",
        "    print(input_ids.shape, attention_mask.shape, target.shape)\n",
        "    break\n"
      ],
      "metadata": {
        "colab": {
          "base_uri": "https://localhost:8080/"
        },
        "id": "khP4qIApAqEQ",
        "outputId": "cafa8d39-c8d5-442c-f775-80c781ed1f2c"
      },
      "execution_count": 41,
      "outputs": [
        {
          "output_type": "stream",
          "name": "stdout",
          "text": [
            "tensor([  101,  3129,  1011,  1998,  1011,  2564,  3460,  2136, 24348,  1998,\n",
            "        15179,  2015,  5912,  2024,  2725, 10754,  2135,  2092,  1999,  2037,\n",
            "        10922,  1010,  2021, 15179,  2015,  2038,  1037, 12219,  3291,  1012,\n",
            "         2010,  6735,  3431,  2043,  2002,  1006,  4895,  2243, 19779, 15787,\n",
            "         1007, 13169,  1996,  2166,  1997,  1037, 20067,  2013,  3533, 25061,\n",
            "         1005,  1055, 11240,  1998,  4152,  1037,  2502,  6781,  2013,  1996,\n",
            "         6080, 19000,  2370,  1012,  8295,  2010,  2689,  1997,  7280,  1006,\n",
            "         1998,  1055,  2532, 28753,  2047,  4545,  1007,  1010, 15179,  2015,\n",
            "         4247,  2000,  4374,  3477, 27475,  2005,  8983,  2075,  2039,  2060,\n",
            "         5229,  2372,  1997,  1996,  6080,  1012,  6854,  1010,  2010, 22824,\n",
            "         9144,  2272,  2000,  2422,  1999,  1037,  2610,  8118,  1010,  2029,\n",
            "        17991,  1037,  5192,  2058,  2010,  2564,  1005,  1055,  2476,  2004,\n",
            "         2092,  1012,  1026,  7987,  1013,  1028,  1026,  7987,  1013,  1028,\n",
            "         2012,  2023,  2391,  1996,  5436,  3310,  2046,  3579,  1010,  2004,\n",
            "        24348,  5912,  2038,  2000,  5343,  2014,  2476,  2077,  2014,  6105,\n",
            "         2003,  6731,  1012,  2023,  7336,  5026,  1996,  6080,  2000,  3425,\n",
            "         2062,  2030,  2625,  2309,  1011,  4375,  2135,  1012,  1026,  7987,\n",
            "         1013,  1028,  1026,  7987,  1013,  1028,  2023,  2003,  2025,  1037,\n",
            "         2524,  1011, 13011, 20067,  3861,  1010,  2021,  1037,  5436,  2008,\n",
            "         2453,  2031,  2042,  6625,  2006,  1037,  2265,  2066, 13523,  7878,\n",
            "         2030,  4028,  2016,  2626,  1012,  2045,  2003,  2070,  6980,  1010,\n",
            "         2021,  1996,  6888,  2003,  2921,  2422,  2011, 22132,  8445,  1005,\n",
            "         1055,  4416,  1011,  1999,  1011,  5048,  2836,  1997,  1037,  5236,\n",
            "        20067,  2040,  5674,  2015,  2370,  2004,  1996,  1000,  8891,  1997,\n",
            "         4126,  1012,  1000,  2010,  2060,  6080,  2372,  2036,  3853,  2062,\n",
            "         2004,  2358,  9541,  8449,  2084,  7415, 12942,  2015,  1012,  1998,\n",
            "         2045,  1005,  1055,  2070, 10245,  7685, 13764,  8649,  2090, 22132,\n",
            "         8445,  1998,  4557,  1010,  2926,  2043,  2016,  1005,  1055, 12318,\n",
            "         2010,  6441,  2012,  2010, 29588,  1012,  1997,  2607,  1010,  2004,\n",
            "         1999,  2035, 20067, 17312,  2015,  1010,  2045,  1005,  1055,  1037,\n",
            "         2502, 18297,  4566,  1010,  2021,  2007,  1037, 14742,  9792,  1012,\n",
            "         2023,  2003,  1037,  2204,  2460,  2143,  4760, 22132,  8445,  2006,\n",
            "         2010,  4125,  2000,  2732,  9527,  1012,   102,     0,     0,     0,\n",
            "            0,     0,     0,     0,     0,     0,     0,     0,     0,     0,\n",
            "            0,     0,     0,     0,     0,     0,     0,     0,     0,     0,\n",
            "            0,     0,     0,     0,     0,     0,     0,     0,     0,     0,\n",
            "            0,     0,     0,     0,     0,     0,     0,     0,     0,     0,\n",
            "            0,     0,     0,     0,     0,     0,     0,     0,     0,     0,\n",
            "            0,     0,     0,     0,     0,     0,     0,     0,     0,     0,\n",
            "            0,     0,     0,     0,     0,     0,     0,     0,     0,     0,\n",
            "            0,     0,     0,     0,     0,     0,     0,     0,     0,     0,\n",
            "            0,     0,     0,     0,     0,     0,     0,     0,     0,     0,\n",
            "            0,     0,     0,     0,     0,     0,     0,     0,     0,     0,\n",
            "            0,     0,     0,     0,     0,     0,     0,     0,     0,     0,\n",
            "            0,     0,     0,     0,     0,     0,     0,     0,     0,     0,\n",
            "            0,     0,     0,     0,     0,     0,     0,     0,     0,     0,\n",
            "            0,     0,     0,     0,     0,     0,     0,     0,     0,     0,\n",
            "            0,     0,     0,     0,     0,     0,     0,     0,     0,     0,\n",
            "            0,     0,     0,     0,     0,     0,     0,     0,     0,     0,\n",
            "            0,     0,     0,     0,     0,     0,     0,     0,     0,     0,\n",
            "            0,     0,     0,     0,     0,     0,     0,     0,     0,     0,\n",
            "            0,     0])\n",
            "tensor([1, 1, 1, 1, 1, 1, 1, 1, 1, 1, 1, 1, 1, 1, 1, 1, 1, 1, 1, 1, 1, 1, 1, 1,\n",
            "        1, 1, 1, 1, 1, 1, 1, 1, 1, 1, 1, 1, 1, 1, 1, 1, 1, 1, 1, 1, 1, 1, 1, 1,\n",
            "        1, 1, 1, 1, 1, 1, 1, 1, 1, 1, 1, 1, 1, 1, 1, 1, 1, 1, 1, 1, 1, 1, 1, 1,\n",
            "        1, 1, 1, 1, 1, 1, 1, 1, 1, 1, 1, 1, 1, 1, 1, 1, 1, 1, 1, 1, 1, 1, 1, 1,\n",
            "        1, 1, 1, 1, 1, 1, 1, 1, 1, 1, 1, 1, 1, 1, 1, 1, 1, 1, 1, 1, 1, 1, 1, 1,\n",
            "        1, 1, 1, 1, 1, 1, 1, 1, 1, 1, 1, 1, 1, 1, 1, 1, 1, 1, 1, 1, 1, 1, 1, 1,\n",
            "        1, 1, 1, 1, 1, 1, 1, 1, 1, 1, 1, 1, 1, 1, 1, 1, 1, 1, 1, 1, 1, 1, 1, 1,\n",
            "        1, 1, 1, 1, 1, 1, 1, 1, 1, 1, 1, 1, 1, 1, 1, 1, 1, 1, 1, 1, 1, 1, 1, 1,\n",
            "        1, 1, 1, 1, 1, 1, 1, 1, 1, 1, 1, 1, 1, 1, 1, 1, 1, 1, 1, 1, 1, 1, 1, 1,\n",
            "        1, 1, 1, 1, 1, 1, 1, 1, 1, 1, 1, 1, 1, 1, 1, 1, 1, 1, 1, 1, 1, 1, 1, 1,\n",
            "        1, 1, 1, 1, 1, 1, 1, 1, 1, 1, 1, 1, 1, 1, 1, 1, 1, 1, 1, 1, 1, 1, 1, 1,\n",
            "        1, 1, 1, 1, 1, 1, 1, 1, 1, 1, 1, 1, 1, 1, 1, 1, 1, 1, 1, 1, 1, 1, 1, 1,\n",
            "        1, 1, 1, 1, 1, 1, 1, 1, 1, 1, 1, 1, 1, 1, 1, 1, 1, 1, 1, 1, 1, 1, 1, 1,\n",
            "        1, 1, 1, 1, 1, 1, 1, 1, 1, 1, 1, 1, 1, 1, 1, 0, 0, 0, 0, 0, 0, 0, 0, 0,\n",
            "        0, 0, 0, 0, 0, 0, 0, 0, 0, 0, 0, 0, 0, 0, 0, 0, 0, 0, 0, 0, 0, 0, 0, 0,\n",
            "        0, 0, 0, 0, 0, 0, 0, 0, 0, 0, 0, 0, 0, 0, 0, 0, 0, 0, 0, 0, 0, 0, 0, 0,\n",
            "        0, 0, 0, 0, 0, 0, 0, 0, 0, 0, 0, 0, 0, 0, 0, 0, 0, 0, 0, 0, 0, 0, 0, 0,\n",
            "        0, 0, 0, 0, 0, 0, 0, 0, 0, 0, 0, 0, 0, 0, 0, 0, 0, 0, 0, 0, 0, 0, 0, 0,\n",
            "        0, 0, 0, 0, 0, 0, 0, 0, 0, 0, 0, 0, 0, 0, 0, 0, 0, 0, 0, 0, 0, 0, 0, 0,\n",
            "        0, 0, 0, 0, 0, 0, 0, 0, 0, 0, 0, 0, 0, 0, 0, 0, 0, 0, 0, 0, 0, 0, 0, 0,\n",
            "        0, 0, 0, 0, 0, 0, 0, 0, 0, 0, 0, 0, 0, 0, 0, 0, 0, 0, 0, 0, 0, 0, 0, 0,\n",
            "        0, 0, 0, 0, 0, 0, 0, 0])\n",
            "tensor(1)\n",
            "torch.Size([16, 512]) torch.Size([16, 512]) torch.Size([16])\n"
          ]
        }
      ]
    },
    {
      "cell_type": "code",
      "source": [
        "encoding['input_ids'].shape\n",
        "encoding['attention_mask'].shape"
      ],
      "metadata": {
        "colab": {
          "base_uri": "https://localhost:8080/"
        },
        "id": "byh88YcwNlUf",
        "outputId": "8e9c3459-0f2a-44ef-d145-8bb8d3b80753"
      },
      "execution_count": 42,
      "outputs": [
        {
          "output_type": "execute_result",
          "data": {
            "text/plain": [
              "torch.Size([1, 250])"
            ]
          },
          "metadata": {},
          "execution_count": 42
        }
      ]
    },
    {
      "cell_type": "code",
      "source": [
        "# out= model(input_ids=encoding['input_ids'],attention_mask =encoding['attention_mask'])"
      ],
      "metadata": {
        "id": "nsCuUMLsLIMm"
      },
      "execution_count": 43,
      "outputs": []
    },
    {
      "cell_type": "code",
      "source": [
        "# out[1]"
      ],
      "metadata": {
        "id": "VrLn0alnRs93"
      },
      "execution_count": 44,
      "outputs": []
    },
    {
      "cell_type": "code",
      "source": [
        "# model.config"
      ],
      "metadata": {
        "id": "fKsINxiAQ3Tf"
      },
      "execution_count": 45,
      "outputs": []
    },
    {
      "cell_type": "code",
      "source": [
        "name='bert-base-uncased'"
      ],
      "metadata": {
        "id": "T7q6njfYQsri"
      },
      "execution_count": 46,
      "outputs": []
    },
    {
      "cell_type": "code",
      "source": [
        "from transformers import AutoModel"
      ],
      "metadata": {
        "id": "vxqCf6DTeIqD"
      },
      "execution_count": 47,
      "outputs": []
    },
    {
      "cell_type": "code",
      "source": [
        "class BertSentimentClassifier(nn.Module):\n",
        "  def __init__(self,n_classes):\n",
        "    super(BertSentimentClassifier,self).__init__()\n",
        "    self.model = AutoModel.from_pretrained(name)\n",
        "    self.dropout = nn.Dropout(p=0.3)\n",
        "    self.out = nn.Linear(self.model.config.hidden_size,n_classes)\n",
        "    self.softmax = nn.Softmax(dim=1)\n",
        "\n",
        "  def forward(self,input_ids,attention_mask):\n",
        "    output = self.model(input_ids,attention_mask)\n",
        "    output=output[1]\n",
        "    output = self.dropout(output)\n",
        "    output = self.out(output)\n",
        "    return self.softmax(output)    "
      ],
      "metadata": {
        "id": "_6lOsi84SElI"
      },
      "execution_count": 48,
      "outputs": []
    },
    {
      "cell_type": "code",
      "source": [
        "bert_model = BertSentimentClassifier(num_classes)\n",
        "bert_model = bert_model.to(device)"
      ],
      "metadata": {
        "colab": {
          "base_uri": "https://localhost:8080/",
          "height": 124,
          "referenced_widgets": [
            "644d859048354974979cf3d89858b2cc",
            "5bb307f8695b4acfbdea2d06d2cca792",
            "850d8e60dd384c46b8383b8961867161",
            "6512dd147612408ca10003c88abd7dfd",
            "3c933d6cc0cc498abdfd84be1fed479b",
            "d125a2247165450d878dbce9de8e8aaf",
            "b4ba91381afd4e5dbf31ca4d871ff1b8",
            "5f2cf1894ffd467c88e5f86532e3b4bf",
            "b3af805a16534585af2cb399885d4ea5",
            "7f5fce9812264667bb782798c56c3f27",
            "9e335acc5ea44f5a9f117419fa6a32cd"
          ]
        },
        "id": "gdiQYCXwTvfi",
        "outputId": "ec15304c-a02b-470a-e00d-24f077540335"
      },
      "execution_count": 49,
      "outputs": [
        {
          "output_type": "display_data",
          "data": {
            "text/plain": [
              "Downloading (…)\"pytorch_model.bin\";:   0%|          | 0.00/440M [00:00<?, ?B/s]"
            ],
            "application/vnd.jupyter.widget-view+json": {
              "version_major": 2,
              "version_minor": 0,
              "model_id": "644d859048354974979cf3d89858b2cc"
            }
          },
          "metadata": {}
        },
        {
          "output_type": "stream",
          "name": "stderr",
          "text": [
            "Some weights of the model checkpoint at bert-base-uncased were not used when initializing BertModel: ['cls.predictions.transform.LayerNorm.weight', 'cls.predictions.transform.dense.weight', 'cls.seq_relationship.bias', 'cls.predictions.transform.LayerNorm.bias', 'cls.predictions.bias', 'cls.predictions.transform.dense.bias', 'cls.seq_relationship.weight', 'cls.predictions.decoder.weight']\n",
            "- This IS expected if you are initializing BertModel from the checkpoint of a model trained on another task or with another architecture (e.g. initializing a BertForSequenceClassification model from a BertForPreTraining model).\n",
            "- This IS NOT expected if you are initializing BertModel from the checkpoint of a model that you expect to be exactly identical (initializing a BertForSequenceClassification model from a BertForSequenceClassification model).\n"
          ]
        }
      ]
    },
    {
      "cell_type": "code",
      "source": [
        "# for i,j,k in train_dataloader:\n",
        "#   i = i.to(device)\n",
        "#   j=j.to(device)\n",
        "#   ou = bert_model(i,j)\n",
        "#   print(ou)\n",
        "#   break"
      ],
      "metadata": {
        "id": "THjrFNGPUgVQ"
      },
      "execution_count": null,
      "outputs": []
    },
    {
      "cell_type": "code",
      "source": [
        "\n",
        "optimizer = AdamW(bert_model.parameters(),lr=2e-5, correct_bias=False)\n",
        "total_steps = len(train_dataloader)*epochs\n",
        "scheduler = get_linear_schedule_with_warmup(optimizer,\n",
        "                                            num_warmup_steps=0,\n",
        "                                            num_training_steps=total_steps)\n",
        "loss_fn = nn.CrossEntropyLoss().to(device)"
      ],
      "metadata": {
        "colab": {
          "base_uri": "https://localhost:8080/"
        },
        "id": "hxoRL5rLWlr-",
        "outputId": "0e0ed1b8-db38-4870-a8ec-3dc11a830639"
      },
      "execution_count": 50,
      "outputs": [
        {
          "output_type": "stream",
          "name": "stderr",
          "text": [
            "/usr/local/lib/python3.8/dist-packages/transformers/optimization.py:306: FutureWarning: This implementation of AdamW is deprecated and will be removed in a future version. Use the PyTorch implementation torch.optim.AdamW instead, or set `no_deprecation_warning=True` to disable this warning\n",
            "  warnings.warn(\n"
          ]
        }
      ]
    },
    {
      "cell_type": "code",
      "source": [
        "a = torch.tensor([0.88])"
      ],
      "metadata": {
        "id": "EMFgJTcMM_aD"
      },
      "execution_count": null,
      "outputs": []
    },
    {
      "cell_type": "code",
      "source": [
        "a.float()"
      ],
      "metadata": {
        "colab": {
          "base_uri": "https://localhost:8080/"
        },
        "id": "PVq2p7mHNB9x",
        "outputId": "6d114ef0-6de2-4f9b-d962-928be2fbf5e7"
      },
      "execution_count": null,
      "outputs": [
        {
          "output_type": "execute_result",
          "data": {
            "text/plain": [
              "tensor([0.8800])"
            ]
          },
          "metadata": {},
          "execution_count": 52
        }
      ]
    },
    {
      "cell_type": "code",
      "source": [
        "from tqdm import tqdm"
      ],
      "metadata": {
        "id": "FscrX12WswNV"
      },
      "execution_count": null,
      "outputs": []
    },
    {
      "cell_type": "code",
      "source": [
        "\n",
        "def train_model(model,dataloader,loss_fn,optimizer,scheduler,device,n_datapoints):\n",
        "  model = model.train()\n",
        "  losses = []\n",
        "  correct_preds = 0\n",
        "  pbar = tqdm(dataloader,leave=False)\n",
        "  for input,mask, label in pbar:\n",
        "    input_ids = input.to(device)\n",
        "    attention_mask = mask.to(device)\n",
        "    labels = label.to(device)\n",
        "    outputs = model(input_ids,attention_mask)\n",
        "    _,preds = torch.max(outputs,dim=1)\n",
        "    loss = loss_fn(outputs,labels)\n",
        "    correct_preds+=torch.sum(preds==labels)\n",
        "    losses.append(loss.item())\n",
        "    loss.backward()\n",
        "    nn.utils.clip_grad_norm(model.parameters(),max_norm=1.0)\n",
        "    optimizer.step()\n",
        "    scheduler.step()\n",
        "    optimizer.zero_grad()\n",
        "    pbar.set_description(f'Loss: {loss.item():.4f}')\n",
        "  avg_loss = np.mean(losses) \n",
        "  return correct_preds/n_datapoints, avg_loss  \n",
        "\n"
      ],
      "metadata": {
        "id": "N1UHjelpaih3"
      },
      "execution_count": null,
      "outputs": []
    },
    {
      "cell_type": "code",
      "source": [
        "def eval_model(model,dataloader,loss_fn,device,n_datapoints):\n",
        "  model = model.eval()\n",
        "  losses = []\n",
        "  correct_preds = 0\n",
        "  with torch.no_grad():\n",
        "    pbar = tqdm(dataloader,leave=False)\n",
        "    for input,mask, label in pbar:\n",
        "      input_ids = input.to(device)\n",
        "      attention_mask = mask.to(device)\n",
        "      labels = label.to(device)\n",
        "      outputs = model(input_ids,attention_mask)\n",
        "      _,preds = torch.max(outputs,dim=1)\n",
        "      loss = loss_fn(outputs,labels)\n",
        "      correct_preds+=torch.sum(preds==labels)\n",
        "      losses.append(loss.item())\n",
        "      pbar.set_description(f'Loss: {loss.item():.4f}')\n",
        "    avg_loss = np.mean(losses)\n",
        "  return correct_preds/n_datapoints, avg_loss  \n"
      ],
      "metadata": {
        "id": "ik3avj5RmZ3n"
      },
      "execution_count": null,
      "outputs": []
    },
    {
      "cell_type": "code",
      "source": [
        "import warnings\n",
        "warnings.filterwarnings(\"ignore\")"
      ],
      "metadata": {
        "id": "7Fshy0N6Ovv9"
      },
      "execution_count": 51,
      "outputs": []
    },
    {
      "cell_type": "code",
      "source": [
        "%%time\n",
        "from collections import defaultdict\n",
        "directory = '/content/drive/MyDrive/dataset/IMDB_review_dataset/model_checkpoints_bert'\n",
        "history = defaultdict(list)\n",
        "best_accuracy = 0.00\n",
        "for epoch in range(epochs):\n",
        "  print(f'Epoch{epoch+1}/{epochs}')\n",
        "  print('-'*10)\n",
        "  train_accuracy, train_loss = train_model(bert_model,train_dataloader,loss_fn, optimizer, scheduler,device,len(df_train))\n",
        "  print(f'Train_Accuracy{train_accuracy} Train_Loss{train_loss}')\n",
        "  val_accuracy, val_loss = eval_model(bert_model,val_dataloader,loss_fn,device,len(df_val))\n",
        "  print(f'Val_Accuracy{val_accuracy} Val_Loss{val_loss}')\n",
        "  history['train_acc'].append(train_accuracy)\n",
        "  history['train_loss'].append(train_loss)\n",
        "  history['val_acc'].append(val_accuracy)\n",
        "  history['val_loss'].append(val_loss)\n",
        "  if val_accuracy>best_accuracy:\n",
        "    filename = 'model_epoch_{}.pth'.format(epoch)\n",
        "    torch.save(bert_model.state_dict(),filename)\n",
        "    best_accuracy = val_accuracy\n"
      ],
      "metadata": {
        "colab": {
          "base_uri": "https://localhost:8080/"
        },
        "id": "AZDv2Uyum5Bh",
        "outputId": "2e9af87a-ff75-456c-d243-4d21bb8eccdc"
      },
      "execution_count": null,
      "outputs": [
        {
          "output_type": "stream",
          "name": "stdout",
          "text": [
            "Epoch1/20\n",
            "----------\n"
          ]
        },
        {
          "output_type": "stream",
          "name": "stderr",
          "text": []
        },
        {
          "output_type": "stream",
          "name": "stdout",
          "text": [
            "Train_Accuracy0.8836249709129333 Train_Loss0.4267204152226448\n"
          ]
        },
        {
          "output_type": "stream",
          "name": "stderr",
          "text": []
        },
        {
          "output_type": "stream",
          "name": "stdout",
          "text": [
            "Val_Accuracy0.9165999889373779 Val_Loss0.39590349802955654\n",
            "Epoch2/20\n",
            "----------\n"
          ]
        },
        {
          "output_type": "stream",
          "name": "stderr",
          "text": []
        },
        {
          "output_type": "stream",
          "name": "stdout",
          "text": [
            "Train_Accuracy0.9319999814033508 Train_Loss0.38058839834928515\n"
          ]
        },
        {
          "output_type": "stream",
          "name": "stderr",
          "text": []
        },
        {
          "output_type": "stream",
          "name": "stdout",
          "text": [
            "Val_Accuracy0.9121999740600586 Val_Loss0.4000065722785438\n",
            "Epoch3/20\n",
            "----------\n"
          ]
        },
        {
          "output_type": "stream",
          "name": "stderr",
          "text": [
            "Loss: 0.3133:  29%|██▊       | 713/2500 [17:57<44:36,  1.50s/it]"
          ]
        }
      ]
    },
    {
      "cell_type": "code",
      "source": [
        "model = BertSentimentClassifier(num_classes)\n",
        "state_dict = torch.load('/content/drive/MyDrive/model_epoch_0.pth')\n",
        "\n",
        "# Filter out any incompatible keys from the state_dict\n",
        "state_dict = {k: v for k, v in state_dict.items() if k in model.state_dict()}\n",
        "\n",
        "# Load the filtered state_dict into the target model\n",
        "model.load_state_dict(state_dict)\n"
      ],
      "metadata": {
        "colab": {
          "base_uri": "https://localhost:8080/"
        },
        "id": "t9ERIVdks6p7",
        "outputId": "bcc234c6-fee8-4463-d58d-bb860998106c"
      },
      "execution_count": 52,
      "outputs": [
        {
          "output_type": "stream",
          "name": "stderr",
          "text": [
            "Some weights of the model checkpoint at bert-base-uncased were not used when initializing BertModel: ['cls.predictions.transform.LayerNorm.weight', 'cls.predictions.transform.dense.weight', 'cls.seq_relationship.bias', 'cls.predictions.transform.LayerNorm.bias', 'cls.predictions.bias', 'cls.predictions.transform.dense.bias', 'cls.seq_relationship.weight', 'cls.predictions.decoder.weight']\n",
            "- This IS expected if you are initializing BertModel from the checkpoint of a model trained on another task or with another architecture (e.g. initializing a BertForSequenceClassification model from a BertForPreTraining model).\n",
            "- This IS NOT expected if you are initializing BertModel from the checkpoint of a model that you expect to be exactly identical (initializing a BertForSequenceClassification model from a BertForSequenceClassification model).\n"
          ]
        },
        {
          "output_type": "execute_result",
          "data": {
            "text/plain": [
              "<All keys matched successfully>"
            ]
          },
          "metadata": {},
          "execution_count": 52
        }
      ]
    },
    {
      "cell_type": "code",
      "source": [
        "model.eval()"
      ],
      "metadata": {
        "colab": {
          "base_uri": "https://localhost:8080/"
        },
        "id": "SzkVTFoktDfB",
        "outputId": "3269a2c5-5b7a-4d8d-ce3d-57866c7932e3"
      },
      "execution_count": 53,
      "outputs": [
        {
          "output_type": "execute_result",
          "data": {
            "text/plain": [
              "BertSentimentClassifier(\n",
              "  (model): BertModel(\n",
              "    (embeddings): BertEmbeddings(\n",
              "      (word_embeddings): Embedding(30522, 768, padding_idx=0)\n",
              "      (position_embeddings): Embedding(512, 768)\n",
              "      (token_type_embeddings): Embedding(2, 768)\n",
              "      (LayerNorm): LayerNorm((768,), eps=1e-12, elementwise_affine=True)\n",
              "      (dropout): Dropout(p=0.1, inplace=False)\n",
              "    )\n",
              "    (encoder): BertEncoder(\n",
              "      (layer): ModuleList(\n",
              "        (0): BertLayer(\n",
              "          (attention): BertAttention(\n",
              "            (self): BertSelfAttention(\n",
              "              (query): Linear(in_features=768, out_features=768, bias=True)\n",
              "              (key): Linear(in_features=768, out_features=768, bias=True)\n",
              "              (value): Linear(in_features=768, out_features=768, bias=True)\n",
              "              (dropout): Dropout(p=0.1, inplace=False)\n",
              "            )\n",
              "            (output): BertSelfOutput(\n",
              "              (dense): Linear(in_features=768, out_features=768, bias=True)\n",
              "              (LayerNorm): LayerNorm((768,), eps=1e-12, elementwise_affine=True)\n",
              "              (dropout): Dropout(p=0.1, inplace=False)\n",
              "            )\n",
              "          )\n",
              "          (intermediate): BertIntermediate(\n",
              "            (dense): Linear(in_features=768, out_features=3072, bias=True)\n",
              "            (intermediate_act_fn): GELUActivation()\n",
              "          )\n",
              "          (output): BertOutput(\n",
              "            (dense): Linear(in_features=3072, out_features=768, bias=True)\n",
              "            (LayerNorm): LayerNorm((768,), eps=1e-12, elementwise_affine=True)\n",
              "            (dropout): Dropout(p=0.1, inplace=False)\n",
              "          )\n",
              "        )\n",
              "        (1): BertLayer(\n",
              "          (attention): BertAttention(\n",
              "            (self): BertSelfAttention(\n",
              "              (query): Linear(in_features=768, out_features=768, bias=True)\n",
              "              (key): Linear(in_features=768, out_features=768, bias=True)\n",
              "              (value): Linear(in_features=768, out_features=768, bias=True)\n",
              "              (dropout): Dropout(p=0.1, inplace=False)\n",
              "            )\n",
              "            (output): BertSelfOutput(\n",
              "              (dense): Linear(in_features=768, out_features=768, bias=True)\n",
              "              (LayerNorm): LayerNorm((768,), eps=1e-12, elementwise_affine=True)\n",
              "              (dropout): Dropout(p=0.1, inplace=False)\n",
              "            )\n",
              "          )\n",
              "          (intermediate): BertIntermediate(\n",
              "            (dense): Linear(in_features=768, out_features=3072, bias=True)\n",
              "            (intermediate_act_fn): GELUActivation()\n",
              "          )\n",
              "          (output): BertOutput(\n",
              "            (dense): Linear(in_features=3072, out_features=768, bias=True)\n",
              "            (LayerNorm): LayerNorm((768,), eps=1e-12, elementwise_affine=True)\n",
              "            (dropout): Dropout(p=0.1, inplace=False)\n",
              "          )\n",
              "        )\n",
              "        (2): BertLayer(\n",
              "          (attention): BertAttention(\n",
              "            (self): BertSelfAttention(\n",
              "              (query): Linear(in_features=768, out_features=768, bias=True)\n",
              "              (key): Linear(in_features=768, out_features=768, bias=True)\n",
              "              (value): Linear(in_features=768, out_features=768, bias=True)\n",
              "              (dropout): Dropout(p=0.1, inplace=False)\n",
              "            )\n",
              "            (output): BertSelfOutput(\n",
              "              (dense): Linear(in_features=768, out_features=768, bias=True)\n",
              "              (LayerNorm): LayerNorm((768,), eps=1e-12, elementwise_affine=True)\n",
              "              (dropout): Dropout(p=0.1, inplace=False)\n",
              "            )\n",
              "          )\n",
              "          (intermediate): BertIntermediate(\n",
              "            (dense): Linear(in_features=768, out_features=3072, bias=True)\n",
              "            (intermediate_act_fn): GELUActivation()\n",
              "          )\n",
              "          (output): BertOutput(\n",
              "            (dense): Linear(in_features=3072, out_features=768, bias=True)\n",
              "            (LayerNorm): LayerNorm((768,), eps=1e-12, elementwise_affine=True)\n",
              "            (dropout): Dropout(p=0.1, inplace=False)\n",
              "          )\n",
              "        )\n",
              "        (3): BertLayer(\n",
              "          (attention): BertAttention(\n",
              "            (self): BertSelfAttention(\n",
              "              (query): Linear(in_features=768, out_features=768, bias=True)\n",
              "              (key): Linear(in_features=768, out_features=768, bias=True)\n",
              "              (value): Linear(in_features=768, out_features=768, bias=True)\n",
              "              (dropout): Dropout(p=0.1, inplace=False)\n",
              "            )\n",
              "            (output): BertSelfOutput(\n",
              "              (dense): Linear(in_features=768, out_features=768, bias=True)\n",
              "              (LayerNorm): LayerNorm((768,), eps=1e-12, elementwise_affine=True)\n",
              "              (dropout): Dropout(p=0.1, inplace=False)\n",
              "            )\n",
              "          )\n",
              "          (intermediate): BertIntermediate(\n",
              "            (dense): Linear(in_features=768, out_features=3072, bias=True)\n",
              "            (intermediate_act_fn): GELUActivation()\n",
              "          )\n",
              "          (output): BertOutput(\n",
              "            (dense): Linear(in_features=3072, out_features=768, bias=True)\n",
              "            (LayerNorm): LayerNorm((768,), eps=1e-12, elementwise_affine=True)\n",
              "            (dropout): Dropout(p=0.1, inplace=False)\n",
              "          )\n",
              "        )\n",
              "        (4): BertLayer(\n",
              "          (attention): BertAttention(\n",
              "            (self): BertSelfAttention(\n",
              "              (query): Linear(in_features=768, out_features=768, bias=True)\n",
              "              (key): Linear(in_features=768, out_features=768, bias=True)\n",
              "              (value): Linear(in_features=768, out_features=768, bias=True)\n",
              "              (dropout): Dropout(p=0.1, inplace=False)\n",
              "            )\n",
              "            (output): BertSelfOutput(\n",
              "              (dense): Linear(in_features=768, out_features=768, bias=True)\n",
              "              (LayerNorm): LayerNorm((768,), eps=1e-12, elementwise_affine=True)\n",
              "              (dropout): Dropout(p=0.1, inplace=False)\n",
              "            )\n",
              "          )\n",
              "          (intermediate): BertIntermediate(\n",
              "            (dense): Linear(in_features=768, out_features=3072, bias=True)\n",
              "            (intermediate_act_fn): GELUActivation()\n",
              "          )\n",
              "          (output): BertOutput(\n",
              "            (dense): Linear(in_features=3072, out_features=768, bias=True)\n",
              "            (LayerNorm): LayerNorm((768,), eps=1e-12, elementwise_affine=True)\n",
              "            (dropout): Dropout(p=0.1, inplace=False)\n",
              "          )\n",
              "        )\n",
              "        (5): BertLayer(\n",
              "          (attention): BertAttention(\n",
              "            (self): BertSelfAttention(\n",
              "              (query): Linear(in_features=768, out_features=768, bias=True)\n",
              "              (key): Linear(in_features=768, out_features=768, bias=True)\n",
              "              (value): Linear(in_features=768, out_features=768, bias=True)\n",
              "              (dropout): Dropout(p=0.1, inplace=False)\n",
              "            )\n",
              "            (output): BertSelfOutput(\n",
              "              (dense): Linear(in_features=768, out_features=768, bias=True)\n",
              "              (LayerNorm): LayerNorm((768,), eps=1e-12, elementwise_affine=True)\n",
              "              (dropout): Dropout(p=0.1, inplace=False)\n",
              "            )\n",
              "          )\n",
              "          (intermediate): BertIntermediate(\n",
              "            (dense): Linear(in_features=768, out_features=3072, bias=True)\n",
              "            (intermediate_act_fn): GELUActivation()\n",
              "          )\n",
              "          (output): BertOutput(\n",
              "            (dense): Linear(in_features=3072, out_features=768, bias=True)\n",
              "            (LayerNorm): LayerNorm((768,), eps=1e-12, elementwise_affine=True)\n",
              "            (dropout): Dropout(p=0.1, inplace=False)\n",
              "          )\n",
              "        )\n",
              "        (6): BertLayer(\n",
              "          (attention): BertAttention(\n",
              "            (self): BertSelfAttention(\n",
              "              (query): Linear(in_features=768, out_features=768, bias=True)\n",
              "              (key): Linear(in_features=768, out_features=768, bias=True)\n",
              "              (value): Linear(in_features=768, out_features=768, bias=True)\n",
              "              (dropout): Dropout(p=0.1, inplace=False)\n",
              "            )\n",
              "            (output): BertSelfOutput(\n",
              "              (dense): Linear(in_features=768, out_features=768, bias=True)\n",
              "              (LayerNorm): LayerNorm((768,), eps=1e-12, elementwise_affine=True)\n",
              "              (dropout): Dropout(p=0.1, inplace=False)\n",
              "            )\n",
              "          )\n",
              "          (intermediate): BertIntermediate(\n",
              "            (dense): Linear(in_features=768, out_features=3072, bias=True)\n",
              "            (intermediate_act_fn): GELUActivation()\n",
              "          )\n",
              "          (output): BertOutput(\n",
              "            (dense): Linear(in_features=3072, out_features=768, bias=True)\n",
              "            (LayerNorm): LayerNorm((768,), eps=1e-12, elementwise_affine=True)\n",
              "            (dropout): Dropout(p=0.1, inplace=False)\n",
              "          )\n",
              "        )\n",
              "        (7): BertLayer(\n",
              "          (attention): BertAttention(\n",
              "            (self): BertSelfAttention(\n",
              "              (query): Linear(in_features=768, out_features=768, bias=True)\n",
              "              (key): Linear(in_features=768, out_features=768, bias=True)\n",
              "              (value): Linear(in_features=768, out_features=768, bias=True)\n",
              "              (dropout): Dropout(p=0.1, inplace=False)\n",
              "            )\n",
              "            (output): BertSelfOutput(\n",
              "              (dense): Linear(in_features=768, out_features=768, bias=True)\n",
              "              (LayerNorm): LayerNorm((768,), eps=1e-12, elementwise_affine=True)\n",
              "              (dropout): Dropout(p=0.1, inplace=False)\n",
              "            )\n",
              "          )\n",
              "          (intermediate): BertIntermediate(\n",
              "            (dense): Linear(in_features=768, out_features=3072, bias=True)\n",
              "            (intermediate_act_fn): GELUActivation()\n",
              "          )\n",
              "          (output): BertOutput(\n",
              "            (dense): Linear(in_features=3072, out_features=768, bias=True)\n",
              "            (LayerNorm): LayerNorm((768,), eps=1e-12, elementwise_affine=True)\n",
              "            (dropout): Dropout(p=0.1, inplace=False)\n",
              "          )\n",
              "        )\n",
              "        (8): BertLayer(\n",
              "          (attention): BertAttention(\n",
              "            (self): BertSelfAttention(\n",
              "              (query): Linear(in_features=768, out_features=768, bias=True)\n",
              "              (key): Linear(in_features=768, out_features=768, bias=True)\n",
              "              (value): Linear(in_features=768, out_features=768, bias=True)\n",
              "              (dropout): Dropout(p=0.1, inplace=False)\n",
              "            )\n",
              "            (output): BertSelfOutput(\n",
              "              (dense): Linear(in_features=768, out_features=768, bias=True)\n",
              "              (LayerNorm): LayerNorm((768,), eps=1e-12, elementwise_affine=True)\n",
              "              (dropout): Dropout(p=0.1, inplace=False)\n",
              "            )\n",
              "          )\n",
              "          (intermediate): BertIntermediate(\n",
              "            (dense): Linear(in_features=768, out_features=3072, bias=True)\n",
              "            (intermediate_act_fn): GELUActivation()\n",
              "          )\n",
              "          (output): BertOutput(\n",
              "            (dense): Linear(in_features=3072, out_features=768, bias=True)\n",
              "            (LayerNorm): LayerNorm((768,), eps=1e-12, elementwise_affine=True)\n",
              "            (dropout): Dropout(p=0.1, inplace=False)\n",
              "          )\n",
              "        )\n",
              "        (9): BertLayer(\n",
              "          (attention): BertAttention(\n",
              "            (self): BertSelfAttention(\n",
              "              (query): Linear(in_features=768, out_features=768, bias=True)\n",
              "              (key): Linear(in_features=768, out_features=768, bias=True)\n",
              "              (value): Linear(in_features=768, out_features=768, bias=True)\n",
              "              (dropout): Dropout(p=0.1, inplace=False)\n",
              "            )\n",
              "            (output): BertSelfOutput(\n",
              "              (dense): Linear(in_features=768, out_features=768, bias=True)\n",
              "              (LayerNorm): LayerNorm((768,), eps=1e-12, elementwise_affine=True)\n",
              "              (dropout): Dropout(p=0.1, inplace=False)\n",
              "            )\n",
              "          )\n",
              "          (intermediate): BertIntermediate(\n",
              "            (dense): Linear(in_features=768, out_features=3072, bias=True)\n",
              "            (intermediate_act_fn): GELUActivation()\n",
              "          )\n",
              "          (output): BertOutput(\n",
              "            (dense): Linear(in_features=3072, out_features=768, bias=True)\n",
              "            (LayerNorm): LayerNorm((768,), eps=1e-12, elementwise_affine=True)\n",
              "            (dropout): Dropout(p=0.1, inplace=False)\n",
              "          )\n",
              "        )\n",
              "        (10): BertLayer(\n",
              "          (attention): BertAttention(\n",
              "            (self): BertSelfAttention(\n",
              "              (query): Linear(in_features=768, out_features=768, bias=True)\n",
              "              (key): Linear(in_features=768, out_features=768, bias=True)\n",
              "              (value): Linear(in_features=768, out_features=768, bias=True)\n",
              "              (dropout): Dropout(p=0.1, inplace=False)\n",
              "            )\n",
              "            (output): BertSelfOutput(\n",
              "              (dense): Linear(in_features=768, out_features=768, bias=True)\n",
              "              (LayerNorm): LayerNorm((768,), eps=1e-12, elementwise_affine=True)\n",
              "              (dropout): Dropout(p=0.1, inplace=False)\n",
              "            )\n",
              "          )\n",
              "          (intermediate): BertIntermediate(\n",
              "            (dense): Linear(in_features=768, out_features=3072, bias=True)\n",
              "            (intermediate_act_fn): GELUActivation()\n",
              "          )\n",
              "          (output): BertOutput(\n",
              "            (dense): Linear(in_features=3072, out_features=768, bias=True)\n",
              "            (LayerNorm): LayerNorm((768,), eps=1e-12, elementwise_affine=True)\n",
              "            (dropout): Dropout(p=0.1, inplace=False)\n",
              "          )\n",
              "        )\n",
              "        (11): BertLayer(\n",
              "          (attention): BertAttention(\n",
              "            (self): BertSelfAttention(\n",
              "              (query): Linear(in_features=768, out_features=768, bias=True)\n",
              "              (key): Linear(in_features=768, out_features=768, bias=True)\n",
              "              (value): Linear(in_features=768, out_features=768, bias=True)\n",
              "              (dropout): Dropout(p=0.1, inplace=False)\n",
              "            )\n",
              "            (output): BertSelfOutput(\n",
              "              (dense): Linear(in_features=768, out_features=768, bias=True)\n",
              "              (LayerNorm): LayerNorm((768,), eps=1e-12, elementwise_affine=True)\n",
              "              (dropout): Dropout(p=0.1, inplace=False)\n",
              "            )\n",
              "          )\n",
              "          (intermediate): BertIntermediate(\n",
              "            (dense): Linear(in_features=768, out_features=3072, bias=True)\n",
              "            (intermediate_act_fn): GELUActivation()\n",
              "          )\n",
              "          (output): BertOutput(\n",
              "            (dense): Linear(in_features=3072, out_features=768, bias=True)\n",
              "            (LayerNorm): LayerNorm((768,), eps=1e-12, elementwise_affine=True)\n",
              "            (dropout): Dropout(p=0.1, inplace=False)\n",
              "          )\n",
              "        )\n",
              "      )\n",
              "    )\n",
              "    (pooler): BertPooler(\n",
              "      (dense): Linear(in_features=768, out_features=768, bias=True)\n",
              "      (activation): Tanh()\n",
              "    )\n",
              "  )\n",
              "  (dropout): Dropout(p=0.3, inplace=False)\n",
              "  (out): Linear(in_features=768, out_features=2, bias=True)\n",
              "  (softmax): Softmax(dim=1)\n",
              ")"
            ]
          },
          "metadata": {},
          "execution_count": 53
        }
      ]
    },
    {
      "cell_type": "code",
      "source": [
        "class_names = ['negative','positive']"
      ],
      "metadata": {
        "id": "Zz42vE_ZoGP0"
      },
      "execution_count": 54,
      "outputs": []
    },
    {
      "cell_type": "code",
      "source": [
        "def generate_sentiment(text,model,tokenizer):\n",
        "  model.eval()\n",
        "  encode_plus = tokenizer.encode_plus(text,\n",
        "                                      max_length=max_len,\n",
        "                                      add_special_tokens=True,\n",
        "                                      return_token_type_ids=False,\n",
        "                                      pad_to_max_length =True,\n",
        "                                      return_attention_mask=True,\n",
        "                                      return_tensors='pt'\n",
        "                                      )\n",
        "  input_ids= encode_plus['input_ids']\n",
        "  attention_mask= encode_plus['attention_mask']\n",
        "  output = model(input_ids,attention_mask)\n",
        "  _,preds = torch.max(output,dim=1)\n",
        "  return print(f'Review text: {text}\\n Sentiment: {class_names[preds]} ')"
      ],
      "metadata": {
        "id": "F97p4OgFl5jg"
      },
      "execution_count": 55,
      "outputs": []
    },
    {
      "cell_type": "code",
      "source": [
        "text = \"\"\"If you enjoy watching psychological thrillers with a dark vibe and alot of plot twists, this is your movie.\n",
        "            First off I have to say, the acting was amazing.John Cusack always makes you forget that he's someone else off the screen when you watch his movies.\n",
        "            I also love the fact that movie raises awareness about the psychological problems many people face, the bad can't be justified though,\n",
        "            but it's still an interesting topic to talk about and to educate people on. The ending was a little unnecessary and I actually thought it was kinda funny,\n",
        "            but it's just the way psychological horrors are... I also love how the movie isn't too long and there aren't many side plots going on (like they are usually) so you're just hooked to the story.\n",
        "            Although the movie is short, they still impressively managed to keep it super suspenseful, it kept me on the edge of my seat the whole time.\n",
        "            Would totally watch it again.\"\"\""
      ],
      "metadata": {
        "id": "k43BfHe3pIJc"
      },
      "execution_count": 56,
      "outputs": []
    },
    {
      "cell_type": "code",
      "source": [
        "generate_sentiment(text,model,tokenizer)"
      ],
      "metadata": {
        "colab": {
          "base_uri": "https://localhost:8080/"
        },
        "id": "QCN9Ueumu9oQ",
        "outputId": "8203f5cb-38a7-4cd1-8788-53e93dd0a236"
      },
      "execution_count": 57,
      "outputs": [
        {
          "output_type": "stream",
          "name": "stdout",
          "text": [
            "Review text: If you enjoy watching psychological thrillers with a dark vibe and alot of plot twists, this is your movie.\n",
            "            First off I have to say, the acting was amazing.John Cusack always makes you forget that he's someone else off the screen when you watch his movies.\n",
            "            I also love the fact that movie raises awareness about the psychological problems many people face, the bad can't be justified though,\n",
            "            but it's still an interesting topic to talk about and to educate people on. The ending was a little unnecessary and I actually thought it was kinda funny,\n",
            "            but it's just the way psychological horrors are... I also love how the movie isn't too long and there aren't many side plots going on (like they are usually) so you're just hooked to the story.\n",
            "            Although the movie is short, they still impressively managed to keep it super suspenseful, it kept me on the edge of my seat the whole time.\n",
            "            Would totally watch it again.\n",
            " Sentiment: positive \n"
          ]
        }
      ]
    },
    {
      "cell_type": "code",
      "source": [
        "text_2 = \"\"\"It is far from our place but we have been here multiple times & we always enjoy the food here. Here is my take on different parameters:\n",
        "            Food: Great authentic taste for most of the dishes. They really have a good chef in the kitchen.\n",
        "            Ambiance: It is well decor and looks classy inside. You will love dining here.\n",
        "            Price: A little expensive compared to other competitive Indian restaurants.\n",
        "            Service: We did not face any issues during our visits. Service is quick and the staff is welcoming too.\n",
        "            Overall take: I would recommend this restaurant for the great taste.\"\"\""
      ],
      "metadata": {
        "id": "tYULf4ZAuaEC"
      },
      "execution_count": 58,
      "outputs": []
    },
    {
      "cell_type": "code",
      "source": [
        "generate_sentiment(text_2,model,tokenizer)"
      ],
      "metadata": {
        "id": "EBFRADlzShHb",
        "colab": {
          "base_uri": "https://localhost:8080/"
        },
        "outputId": "1416b916-59b6-49ee-990c-5a8af349a26e"
      },
      "execution_count": 59,
      "outputs": [
        {
          "output_type": "stream",
          "name": "stdout",
          "text": [
            "Review text: It is far from our place but we have been here multiple times & we always enjoy the food here. Here is my take on different parameters:\n",
            "            Food: Great authentic taste for most of the dishes. They really have a good chef in the kitchen.\n",
            "            Ambiance: It is well decor and looks classy inside. You will love dining here.\n",
            "            Price: A little expensive compared to other competitive Indian restaurants.\n",
            "            Service: We did not face any issues during our visits. Service is quick and the staff is welcoming too.\n",
            "            Overall take: I would recommend this restaurant for the great taste.\n",
            " Sentiment: positive \n"
          ]
        }
      ]
    },
    {
      "cell_type": "code",
      "source": [
        "text_3 = \"\"\"Worst service ever, first they bought the wrong dish and took forever for the correct food to come,.\n",
        "            The food was not that good either.also the rice was bought before the nan and waited forever for it ,\n",
        "            I would never come back here again.\"\"\""
      ],
      "metadata": {
        "id": "MRaZh1skpQ_y"
      },
      "execution_count": 60,
      "outputs": []
    },
    {
      "cell_type": "code",
      "source": [
        "generate_sentiment(text_3,model,tokenizer)"
      ],
      "metadata": {
        "colab": {
          "base_uri": "https://localhost:8080/"
        },
        "id": "R26ikRJCvCuX",
        "outputId": "7058847b-e5d3-48f5-83f2-e6fc68a48053"
      },
      "execution_count": 61,
      "outputs": [
        {
          "output_type": "stream",
          "name": "stdout",
          "text": [
            "Review text: Worst service ever, first they bought the wrong dish and took forever for the correct food to come,.\n",
            "            The food was not that good either.also the rice was bought before the nan and waited forever for it ,\n",
            "            I would never come back here again.\n",
            " Sentiment: negative \n"
          ]
        }
      ]
    },
    {
      "cell_type": "code",
      "source": [
        "import torch\n",
        "import torch.onnx\n",
        "\n",
        "# Define the input shapes\n",
        "input_ids = torch.zeros(1, 512, dtype=torch.long)\n",
        "attention_masks = torch.zeros(1, 512, dtype=torch.long)\n",
        "\n",
        "# Export the model to ONNX\n",
        "torch.onnx.export(model, (input_ids, attention_masks), \"bert.onnx\", export_params=True,\n",
        "                  input_names=[\"input_ids\", \"attention_masks\"],\n",
        "                  output_names=[\"output\"])\n"
      ],
      "metadata": {
        "id": "YNofyX3wvEhV"
      },
      "execution_count": 94,
      "outputs": []
    },
    {
      "cell_type": "code",
      "source": [
        "!pip install onnxruntime"
      ],
      "metadata": {
        "id": "OEa_EGPewnEl",
        "colab": {
          "base_uri": "https://localhost:8080/"
        },
        "outputId": "dda67ea3-9490-46af-e7d1-ae2440ff48a2"
      },
      "execution_count": 62,
      "outputs": [
        {
          "output_type": "stream",
          "name": "stdout",
          "text": [
            "Looking in indexes: https://pypi.org/simple, https://us-python.pkg.dev/colab-wheels/public/simple/\n",
            "Collecting onnxruntime\n",
            "  Downloading onnxruntime-1.14.0-cp38-cp38-manylinux_2_27_x86_64.whl (5.0 MB)\n",
            "\u001b[2K     \u001b[90m━━━━━━━━━━━━━━━━━━━━━━━━━━━━━━━━━━━━━━━━\u001b[0m \u001b[32m5.0/5.0 MB\u001b[0m \u001b[31m38.6 MB/s\u001b[0m eta \u001b[36m0:00:00\u001b[0m\n",
            "\u001b[?25hRequirement already satisfied: sympy in /usr/local/lib/python3.8/dist-packages (from onnxruntime) (1.7.1)\n",
            "Collecting coloredlogs\n",
            "  Downloading coloredlogs-15.0.1-py2.py3-none-any.whl (46 kB)\n",
            "\u001b[2K     \u001b[90m━━━━━━━━━━━━━━━━━━━━━━━━━━━━━━━━━━━━━━━━\u001b[0m \u001b[32m46.0/46.0 KB\u001b[0m \u001b[31m5.4 MB/s\u001b[0m eta \u001b[36m0:00:00\u001b[0m\n",
            "\u001b[?25hRequirement already satisfied: packaging in /usr/local/lib/python3.8/dist-packages (from onnxruntime) (23.0)\n",
            "Requirement already satisfied: numpy>=1.21.6 in /usr/local/lib/python3.8/dist-packages (from onnxruntime) (1.21.6)\n",
            "Requirement already satisfied: flatbuffers in /usr/local/lib/python3.8/dist-packages (from onnxruntime) (23.1.21)\n",
            "Requirement already satisfied: protobuf in /usr/local/lib/python3.8/dist-packages (from onnxruntime) (3.19.6)\n",
            "Collecting humanfriendly>=9.1\n",
            "  Downloading humanfriendly-10.0-py2.py3-none-any.whl (86 kB)\n",
            "\u001b[2K     \u001b[90m━━━━━━━━━━━━━━━━━━━━━━━━━━━━━━━━━━━━━━━━\u001b[0m \u001b[32m86.8/86.8 KB\u001b[0m \u001b[31m10.6 MB/s\u001b[0m eta \u001b[36m0:00:00\u001b[0m\n",
            "\u001b[?25hRequirement already satisfied: mpmath>=0.19 in /usr/local/lib/python3.8/dist-packages (from sympy->onnxruntime) (1.2.1)\n",
            "Installing collected packages: humanfriendly, coloredlogs, onnxruntime\n",
            "Successfully installed coloredlogs-15.0.1 humanfriendly-10.0 onnxruntime-1.14.0\n"
          ]
        }
      ]
    },
    {
      "cell_type": "code",
      "source": [
        "import onnxruntime as ort\n"
      ],
      "metadata": {
        "id": "9_-zpkDygNnm"
      },
      "execution_count": 166,
      "outputs": []
    },
    {
      "cell_type": "code",
      "source": [
        "sess = ort.InferenceSession('/content/drive/MyDrive/bert.onnx')"
      ],
      "metadata": {
        "id": "g9WGlfdvgWFY"
      },
      "execution_count": 167,
      "outputs": []
    },
    {
      "cell_type": "code",
      "source": [
        "print(sess.get_inputs())"
      ],
      "metadata": {
        "colab": {
          "base_uri": "https://localhost:8080/"
        },
        "id": "BFpzXWkBoaei",
        "outputId": "b3d122dc-d84d-4040-9269-b854884c3d98"
      },
      "execution_count": 168,
      "outputs": [
        {
          "output_type": "stream",
          "name": "stdout",
          "text": [
            "[<onnxruntime.capi.onnxruntime_pybind11_state.NodeArg object at 0x7efb141d00b0>, <onnxruntime.capi.onnxruntime_pybind11_state.NodeArg object at 0x7efb141d06b0>]\n"
          ]
        }
      ]
    },
    {
      "cell_type": "code",
      "source": [
        "input_data = {'input_ids':input_ids.numpy(),\n",
        "        'attention_masks':attention_masks.numpy()}"
      ],
      "metadata": {
        "id": "V4YazskJgeEA"
      },
      "execution_count": 185,
      "outputs": []
    },
    {
      "cell_type": "code",
      "source": [
        "output = sess.run(None, input_data)"
      ],
      "metadata": {
        "id": "Uj2MWoGOgwO6"
      },
      "execution_count": 186,
      "outputs": []
    },
    {
      "cell_type": "code",
      "source": [
        "output"
      ],
      "metadata": {
        "colab": {
          "base_uri": "https://localhost:8080/"
        },
        "id": "Z-WF0SqDgyNN",
        "outputId": "3e6cfdfa-5cee-4a9b-d313-e371737ec417"
      },
      "execution_count": 187,
      "outputs": [
        {
          "output_type": "execute_result",
          "data": {
            "text/plain": [
              "[array([[0.02835651, 0.97164345]], dtype=float32)]"
            ]
          },
          "metadata": {},
          "execution_count": 187
        }
      ]
    },
    {
      "cell_type": "code",
      "source": [
        "def onnx_inference(text,onnx_model,tokenizer):\n",
        "    encode_plus = tokenizer.encode_plus(text,\n",
        "                                      max_length=max_len,\n",
        "                                      add_special_tokens=True,\n",
        "                                      return_token_type_ids=False,\n",
        "                                      pad_to_max_length =True,\n",
        "                                      return_attention_mask=True,\n",
        "                                      return_tensors='pt'\n",
        "                                      )\n",
        "    input_ids = encode_plus['input_ids']\n",
        "    attention_mask = encode_plus['attention_mask']\n",
        "    input_data = {\n",
        "        'input_ids':input_ids.numpy(),\n",
        "        'attention_masks':attention_mask.numpy()\n",
        "    }\n",
        "    sess = ort.InferenceSession(onnx_model)\n",
        "    outputs = sess.run(None,input_data)\n",
        "    pred = np.argmax(outputs[0], axis=1)\n",
        "    sentiment = class_names[pred[0]]\n",
        "    return f'Predicted Sentiment: {sentiment}'"
      ],
      "metadata": {
        "id": "C6Rtccjog1yM"
      },
      "execution_count": 173,
      "outputs": []
    },
    {
      "cell_type": "code",
      "source": [
        "onnx_model ='/content/drive/MyDrive/bert.onnx'"
      ],
      "metadata": {
        "id": "zz_34rcYmE_O"
      },
      "execution_count": 174,
      "outputs": []
    },
    {
      "cell_type": "code",
      "source": [
        "onnx_inference(text,onnx_model,tokenizer)"
      ],
      "metadata": {
        "colab": {
          "base_uri": "https://localhost:8080/",
          "height": 36
        },
        "id": "r3aHQJByjf97",
        "outputId": "aed73ca4-b2c1-4fb3-fabf-cad28ca3859c"
      },
      "execution_count": 175,
      "outputs": [
        {
          "output_type": "execute_result",
          "data": {
            "text/plain": [
              "'Predicted Sentiment: positive'"
            ],
            "application/vnd.google.colaboratory.intrinsic+json": {
              "type": "string"
            }
          },
          "metadata": {},
          "execution_count": 175
        }
      ]
    },
    {
      "cell_type": "code",
      "source": [
        "\"\"\"To use this batch size function for inference, first save the onnx model in that batch format\"\"\"\n",
        "# def onnx_inference_batch(texts, onnx_model, tokenizer):\n",
        "#     # Use a list comprehension to get the tokenized inputs for each text\n",
        "#     tokenized_inputs = [tokenizer.encode_plus(text,\n",
        "#                                               max_length=max_len,\n",
        "#                                               add_special_tokens=True,\n",
        "#                                               return_token_type_ids=False,\n",
        "#                                               pad_to_max_length=True,\n",
        "#                                               return_attention_mask=True,\n",
        "#                                               return_tensors='pt') for text in texts]\n",
        "\n",
        "#     # Get the input_ids and attention_mask tensors for each tokenized input\n",
        "#     input_ids = [inputs['input_ids'] for inputs in tokenized_inputs]\n",
        "#     attention_mask = [inputs['attention_mask'] for inputs in tokenized_inputs]\n",
        "\n",
        "#     # Concatenate the input_ids and attention_mask tensors along the batch dimension (axis 0)\n",
        "#     input_ids = torch.cat(input_ids, dim=0)\n",
        "#     attention_mask = torch.cat(attention_mask, dim=0)\n",
        "\n",
        "#     # Convert the PyTorch tensors to numpy arrays\n",
        "#     input_ids = input_ids.numpy()\n",
        "#     attention_mask = attention_mask.numpy()\n",
        "\n",
        "#     # Create the input data dictionary\n",
        "#     input_data = {\n",
        "#         'input_ids': input_ids,\n",
        "#         'attention_masks': attention_mask\n",
        "#     }\n",
        "\n",
        "#     # Perform inference using the ONNX Runtime session\n",
        "#     sess = ort.InferenceSession(onnx_model)\n",
        "#     outputs = sess.run(None, input_data)\n",
        "\n",
        "#     # Get the predictions by finding the maximum value in the output tensors\n",
        "#     preds = np.argmax(outputs[0], axis=1)\n",
        "\n",
        "#     # Convert the predictions to class names\n",
        "#     sentiments = [class_names[pred] for pred in preds]\n"
      ],
      "metadata": {
        "id": "8nBvPth5udLG"
      },
      "execution_count": 188,
      "outputs": []
    },
    {
      "cell_type": "code",
      "source": [
        "# text_lst = [text,text_2,text_3] "
      ],
      "metadata": {
        "id": "AK08q84Aw6D7"
      },
      "execution_count": 189,
      "outputs": []
    },
    {
      "cell_type": "code",
      "source": [
        "# onnx_inference_batch(text_lst,onnx_model,tokenizer)"
      ],
      "metadata": {
        "id": "65qKBtbIxGKB"
      },
      "execution_count": 8,
      "outputs": []
    }
  ]
}